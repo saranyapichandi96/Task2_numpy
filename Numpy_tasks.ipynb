{
  "cells": [
    {
      "cell_type": "markdown",
      "metadata": {
        "id": "view-in-github",
        "colab_type": "text"
      },
      "source": [
        "<a href=\"https://colab.research.google.com/github/saranyapichandi96/Task2_numpy/blob/main/Numpy_tasks.ipynb\" target=\"_parent\"><img src=\"https://colab.research.google.com/assets/colab-badge.svg\" alt=\"Open In Colab\"/></a>"
      ]
    },
    {
      "cell_type": "markdown",
      "metadata": {
        "id": "DmFm9ueTO8T2"
      },
      "source": [
        "# Numpy\n",
        "\n"
      ]
    },
    {
      "cell_type": "markdown",
      "metadata": {
        "id": "kmrTSDe2O8UB"
      },
      "source": [
        "#### 1. Import the numpy package under the name `np` (★☆☆) \n",
        "(**hint**: import … as …)"
      ]
    },
    {
      "cell_type": "code",
      "execution_count": null,
      "metadata": {
        "collapsed": true,
        "id": "b0VKyI_IO8UD"
      },
      "outputs": [],
      "source": [
        "import numpy as np"
      ]
    },
    {
      "cell_type": "markdown",
      "metadata": {
        "id": "NazBT0--O8UE"
      },
      "source": [
        "#### 2. Print the numpy version and the configuration (★☆☆) \n",
        "(**hint**: np.\\_\\_version\\_\\_, np.show\\_config)"
      ]
    },
    {
      "cell_type": "code",
      "execution_count": null,
      "metadata": {
        "id": "dR4yWRW0O8UG"
      },
      "outputs": [],
      "source": [
        "import numpy as np\n",
        "print(np.__version__)#version\n",
        "print(np.show_config)#configuration"
      ]
    },
    {
      "cell_type": "markdown",
      "metadata": {
        "id": "T01To3xpO8UH"
      },
      "source": [
        "#### 3. Create a null vector of size 10 (★☆☆) \n",
        "(**hint**: np.zeros)"
      ]
    },
    {
      "cell_type": "code",
      "execution_count": null,
      "metadata": {
        "id": "YVremo-KO8UI"
      },
      "outputs": [],
      "source": [
        "import numpy as np\n",
        "x=np.zeros(10)\n",
        "print(x)"
      ]
    },
    {
      "cell_type": "markdown",
      "metadata": {
        "id": "C4F_6CDcO8UK"
      },
      "source": [
        "#### 4.  How to find the memory size of any array (★☆☆) \n",
        "(**hint**: size, itemsize)"
      ]
    },
    {
      "cell_type": "code",
      "execution_count": null,
      "metadata": {
        "id": "XV3X2OzXO8UL"
      },
      "outputs": [],
      "source": [
        "import numpy as np\n",
        "x=np.array([10,20,30,40,50])\n",
        "print(x.nbytes)#method1\n",
        "print('size of array',x.size)\n",
        "print('memory size of an element in an array',x.itemsize)\n",
        "print('total memory size',x.size * x.itemsize)#method2"
      ]
    },
    {
      "cell_type": "markdown",
      "metadata": {
        "id": "QggH3JHJO8UM"
      },
      "source": [
        "#### 5.  How to get the documentation of the numpy add function from the command line? (★☆☆) \n",
        "(**hint**: np.info)"
      ]
    },
    {
      "cell_type": "code",
      "execution_count": null,
      "metadata": {
        "collapsed": true,
        "id": "GT6-s--aO8UO"
      },
      "outputs": [],
      "source": [
        "import numpy as np\n",
        "print(np.info(np.add))"
      ]
    },
    {
      "cell_type": "markdown",
      "metadata": {
        "id": "tD7iB_BjO8UP"
      },
      "source": [
        "#### 6.  Create a null vector of size 10 but the fifth value which is 1 (★☆☆) \n",
        "(**hint**: array\\[4\\])"
      ]
    },
    {
      "cell_type": "code",
      "execution_count": null,
      "metadata": {
        "id": "Hkk2Mwv3O8UR"
      },
      "outputs": [],
      "source": [
        "import numpy as np\n",
        "x=np.zeros(10)\n",
        "print(x)\n",
        "x[4]=1\n",
        "print(x)"
      ]
    },
    {
      "cell_type": "markdown",
      "metadata": {
        "id": "wy2Dal_mO8US"
      },
      "source": [
        "#### 7.  Create a vector with values ranging from 10 to 49 (★☆☆) \n",
        "(**hint**: np.arange)"
      ]
    },
    {
      "cell_type": "code",
      "execution_count": null,
      "metadata": {
        "id": "ULYdEcn3O8UU",
        "colab": {
          "base_uri": "https://localhost:8080/"
        },
        "outputId": "d0894d83-e36c-43c2-bba3-21e4d9380728"
      },
      "outputs": [
        {
          "output_type": "stream",
          "name": "stdout",
          "text": [
            "[10 11 12 13 14 15 16 17 18 19 20 21 22 23 24 25 26 27 28 29 30 31 32 33\n",
            " 34 35 36 37 38 39 40 41 42 43 44 45 46 47 48]\n"
          ]
        }
      ],
      "source": [
        "import numpy as np\n",
        "arr=np.arange(10,49)\n",
        "print(arr)"
      ]
    },
    {
      "cell_type": "markdown",
      "metadata": {
        "id": "ssQKqb5GO8UV"
      },
      "source": [
        "#### 8.  Reverse a vector (first element becomes last) (★☆☆) \n",
        "(**hint**: array\\[::-1\\])"
      ]
    },
    {
      "cell_type": "code",
      "execution_count": null,
      "metadata": {
        "id": "q3iruI3XO8UW"
      },
      "outputs": [],
      "source": [
        "import numpy as np\n",
        "arr=np.arange(1,10)\n",
        "print(arr)\n",
        "a=arr[::-1]\n",
        "print(a)"
      ]
    },
    {
      "cell_type": "markdown",
      "metadata": {
        "id": "0GrI1n_BO8UW"
      },
      "source": [
        "#### 9.  Create a 3x3 matrix with values ranging from 0 to 8 (★☆☆) \n",
        "(**hint**: reshape)"
      ]
    },
    {
      "cell_type": "code",
      "execution_count": null,
      "metadata": {
        "id": "KW-EgoxKO8UX"
      },
      "outputs": [],
      "source": [
        "import numpy as np\n",
        "x=np.arange(0,9).reshape(3,3)\n",
        "print(x)"
      ]
    },
    {
      "cell_type": "markdown",
      "metadata": {
        "id": "Nq35e8LYO8UY"
      },
      "source": [
        "#### 10. Find indices of non-zero elements from \\[1,2,0,0,4,0\\] (★☆☆) \n",
        "(**hint**: np.nonzero)"
      ]
    },
    {
      "cell_type": "code",
      "execution_count": null,
      "metadata": {
        "id": "algk_bqKO8UZ"
      },
      "outputs": [],
      "source": [
        "import numpy as np\n",
        "arr=[1,2,0,0,4,0]\n",
        "print(\"indices of non zero elements\")\n",
        "a=np.nonzero(arr)\n",
        "print(a)\n"
      ]
    },
    {
      "cell_type": "markdown",
      "metadata": {
        "id": "d72MfngqO8Ua"
      },
      "source": [
        "#### 11. Create a 3x3 identity matrix (★☆☆) \n",
        "(**hint**: np.eye)"
      ]
    },
    {
      "cell_type": "code",
      "execution_count": null,
      "metadata": {
        "id": "YgyypMJCO8Ub"
      },
      "outputs": [],
      "source": [
        "import numpy as np\n",
        "a=np.eye(3,3,dtype=int)#row,column,datatype\n",
        "print(\"identical matrix\")\n",
        "print(a)"
      ]
    },
    {
      "cell_type": "markdown",
      "metadata": {
        "id": "KGgOwZR-O8Ub"
      },
      "source": [
        "#### 12. Create a 3x3x3 array with random values (★☆☆) \n",
        "(**hint**: np.random.random)"
      ]
    },
    {
      "cell_type": "code",
      "execution_count": null,
      "metadata": {
        "collapsed": true,
        "id": "QPGLSQYrO8Uc"
      },
      "outputs": [],
      "source": [
        "import numpy as np\n",
        "x=np.random.random((3,3))\n",
        "print(x)"
      ]
    },
    {
      "cell_type": "markdown",
      "metadata": {
        "id": "hZSo1wvaO8Uc"
      },
      "source": [
        "#### 13. Create a 10x10 array with random values and find the minimum and maximum values (★☆☆) \n",
        "(**hint**: min, max)"
      ]
    },
    {
      "cell_type": "code",
      "execution_count": null,
      "metadata": {
        "id": "P1aYXOZdO8Uc"
      },
      "outputs": [],
      "source": [
        "import numpy as np\n",
        "x=np.random.random((1,10,10))\n",
        "print(\"array is:\\n\",x)\n",
        "min=x.min()\n",
        "print(\"minimum value\",min)\n",
        "max=x.max()\n",
        "print(\"maximum value\",max)"
      ]
    },
    {
      "cell_type": "markdown",
      "metadata": {
        "id": "dMrrhGXrO8Uc"
      },
      "source": [
        "#### 14. Create a random vector of size 30 and find the mean value (★☆☆) \n",
        "(**hint**: mean)"
      ]
    },
    {
      "cell_type": "code",
      "execution_count": null,
      "metadata": {
        "id": "IcPTikEtO8Ud"
      },
      "outputs": [],
      "source": [
        "import numpy as np\n",
        "x=np.random.random(30)\n",
        "print(\"random values\\n\",x)\n",
        "mean=x.mean()\n",
        "print(\"mean:\",mean)"
      ]
    },
    {
      "cell_type": "markdown",
      "metadata": {
        "id": "BcIvpL3_O8Ud"
      },
      "source": [
        "#### 15. Create a 2d array with 1 on the border and 0 inside (★☆☆) \n",
        "(**hint**: array\\[1:-1, 1:-1\\])"
      ]
    },
    {
      "cell_type": "code",
      "execution_count": null,
      "metadata": {
        "id": "uCfqGkwZO8Ud"
      },
      "outputs": [],
      "source": [
        "import numpy as np\n",
        "x=np.ones((5,5))\n",
        "print(\"array\\n\",x)\n",
        "print(\"1-border , 0-inside\")\n",
        "x[1:-1,1:-1]=0\n",
        "print(x)"
      ]
    },
    {
      "cell_type": "markdown",
      "metadata": {
        "id": "qxq8fbOMO8Ue"
      },
      "source": [
        "#### 16. How to add a border (filled with 0's) around an existing array? (★☆☆) \n",
        "(**hint**: np.pad)"
      ]
    },
    {
      "cell_type": "code",
      "execution_count": null,
      "metadata": {
        "id": "6hjL1MoEO8Ue"
      },
      "outputs": [],
      "source": [
        "import numpy as np\n",
        "x=np.ones((3,3))\n",
        "print(\"array is\\n\")\n",
        "print(x)\n",
        "x=np.pad(x,pad_width=1,mode='constant',constant_values=0)\n",
        "print(\"bordered with zeros\\n\")\n",
        "print(x)"
      ]
    },
    {
      "cell_type": "markdown",
      "metadata": {
        "id": "L8M2FVekO8Uf"
      },
      "source": [
        "#### 17. What is the result of the following expression? (★☆☆) \n",
        "(**hint**: NaN = not a number, inf = infinity)"
      ]
    },
    {
      "cell_type": "markdown",
      "metadata": {
        "id": "pMivU1JnO8Ug"
      },
      "source": [
        "```python\n",
        "0 * np.nan\n",
        "np.nan == np.nan  -->false\n",
        "np.inf > np.nan\n",
        "np.nan - np.nan\n",
        "0.3 == 3 * 0.1\n",
        "```"
      ]
    },
    {
      "cell_type": "code",
      "execution_count": null,
      "metadata": {
        "id": "6rb5FA5jO8Uh"
      },
      "outputs": [],
      "source": []
    },
    {
      "cell_type": "markdown",
      "metadata": {
        "id": "jHd-Z_kzO8Ui"
      },
      "source": [
        "#### 18. Create a 5x5 matrix with values 1,2,3,4 just below the diagonal (★☆☆) \n",
        "(**hint**: np.diag)"
      ]
    },
    {
      "cell_type": "code",
      "execution_count": null,
      "metadata": {
        "id": "ApEh8WhdO8Ui"
      },
      "outputs": [],
      "source": [
        "import numpy as np\n",
        "x=np.diag([1,2,3,4,5])\n",
        "print(x)"
      ]
    },
    {
      "cell_type": "markdown",
      "metadata": {
        "id": "NAVQ6em2O8Uj"
      },
      "source": [
        "#### 19. Create a 8x8 matrix and fill it with a checkerboard pattern (★☆☆) \n",
        "(**hint**: array\\[::2\\])"
      ]
    },
    {
      "cell_type": "code",
      "execution_count": null,
      "metadata": {
        "id": "HqDXVG23O8Uj"
      },
      "outputs": [],
      "source": [
        "import numpy as np\n",
        "x=np.ones((3,3))\n",
        "print(x)\n",
        "x=np.zeros((8,8),dtype=int)\n",
        "print(x)\n",
        "print(\"array with checkerboard pattern\")\n",
        "x[1::2,::2]=1\n",
        "x[::2,1::2]=1\n",
        "print(x)"
      ]
    },
    {
      "cell_type": "markdown",
      "metadata": {
        "id": "lmUW0Y9AO8Uk"
      },
      "source": [
        "#### 20. Consider a (6,7,8) shape array, what is the index (x,y,z) of the 100th element? \n",
        "(**hint**: np.unravel_index)"
      ]
    },
    {
      "cell_type": "code",
      "execution_count": null,
      "metadata": {
        "id": "Jzdz3M5oO8Ul",
        "colab": {
          "base_uri": "https://localhost:8080/"
        },
        "outputId": "2ba26515-c1fe-4ac6-9c15-af6f424cba85"
      },
      "outputs": [
        {
          "output_type": "stream",
          "name": "stdout",
          "text": [
            "(1, 5, 4)\n"
          ]
        }
      ],
      "source": [
        "print(np.unravel_index(100,(6,7,8)))"
      ]
    },
    {
      "cell_type": "markdown",
      "metadata": {
        "id": "2bXosTZ8O8Ul"
      },
      "source": [
        "#### 21. Create a checkerboard 8x8 matrix using the tile function (★☆☆) \n",
        "(**hint**: np.tile)"
      ]
    },
    {
      "cell_type": "code",
      "execution_count": null,
      "metadata": {
        "id": "f6ivQNauO8Um"
      },
      "outputs": [],
      "source": [
        "np.tile-->constructs a new array by repeting array\n",
        "syntax\n",
        "np.tile(array,repetations)"
      ]
    },
    {
      "cell_type": "code",
      "source": [
        "array=np.array([[0,1],[0,1]])\n",
        "x=np.tile(array,(4,4))\n",
        "print(x)"
      ],
      "metadata": {
        "id": "aqhN24dmzFLg"
      },
      "execution_count": null,
      "outputs": []
    },
    {
      "cell_type": "markdown",
      "metadata": {
        "id": "M2x59oyyO8Um"
      },
      "source": [
        "#### 22. Normalize a 5x5 random matrix (★☆☆) \n",
        "(**hint**: (x - min) / (max - min))"
      ]
    },
    {
      "cell_type": "code",
      "execution_count": null,
      "metadata": {
        "id": "GLZfBbGBO8Un"
      },
      "outputs": [],
      "source": [
        "import numpy as np\n",
        "x=np.random.random((5,5))\n",
        "min=x.min()\n",
        "max=x.max()\n",
        "normalize=(x-min)/(max-min)\n",
        "print(normalize)"
      ]
    },
    {
      "cell_type": "markdown",
      "metadata": {
        "id": "B-vuksyFO8Un"
      },
      "source": [
        "#### 23. Create a custom dtype that describes a color as four unsigned bytes (RGBA) (★☆☆) \n",
        "(**hint**: np.dtype)"
      ]
    },
    {
      "cell_type": "code",
      "execution_count": null,
      "metadata": {
        "collapsed": true,
        "id": "yio6Ntn9O8Uo",
        "colab": {
          "base_uri": "https://localhost:8080/"
        },
        "outputId": "0fcf36ae-2e0c-445c-fb16-1134e58301fd"
      },
      "outputs": [
        {
          "output_type": "stream",
          "name": "stderr",
          "text": [
            "/usr/local/lib/python3.7/dist-packages/ipykernel_launcher.py:4: FutureWarning: Passing (type, 1) or '1type' as a synonym of type is deprecated; in a future version of numpy, it will be understood as (type, (1,)) / '(1,)type'.\n",
            "  after removing the cwd from sys.path.\n"
          ]
        }
      ],
      "source": [
        "color=np.dtype([('r',np.ubyte,1),\n",
        "                ('g',np.ubyte,1),\n",
        "                ('b',np.ubyte,1),\n",
        "                ('a',np.ubyte,1)\n",
        "                ])\n"
      ]
    },
    {
      "cell_type": "markdown",
      "metadata": {
        "id": "nHDEllvlO8Uo"
      },
      "source": [
        "#### 24. Multiply a 5x3 matrix by a 3x2 matrix (real matrix product) (★☆☆) \n",
        "(**hint**: np.dot | @)"
      ]
    },
    {
      "cell_type": "code",
      "execution_count": null,
      "metadata": {
        "id": "NXe1H3-fO8Uo"
      },
      "outputs": [],
      "source": [
        "a=np.arange(15).reshape((5,3))\n",
        "b=np.arange(6).reshape((3,2))\n",
        "print(\"a matrix:\\n\",a)\n",
        "print(\"b matrix:\\n\",b)\n",
        "c=np.dot(a,b)\n",
        "print(\"multipled matrix is:\\n\",c)"
      ]
    },
    {
      "cell_type": "markdown",
      "metadata": {
        "id": "Nf4MSeFMO8Up"
      },
      "source": [
        "#### 25. Given a 1D array, negate all elements which are between 3 and 8, in place. (★☆☆) \n",
        "(**hint**: >, <=)"
      ]
    },
    {
      "cell_type": "code",
      "execution_count": null,
      "metadata": {
        "id": "k55lsAB7O8Up"
      },
      "outputs": [],
      "source": [
        "\n",
        "x = np.arange(11)\n",
        "x[(x >= 3) & (x <= 8)] =0\n",
        "print(x)"
      ]
    },
    {
      "cell_type": "markdown",
      "metadata": {
        "id": "00pf-YY_O8Up"
      },
      "source": [
        "#### 26. What is the output of the following script? (★☆☆) \n",
        "(**hint**: np.sum)"
      ]
    },
    {
      "cell_type": "markdown",
      "metadata": {
        "id": "gsPZv2xWO8Uq"
      },
      "source": [
        "```python\n",
        "# Author: Jake VanderPlas\n",
        "\n",
        "print(sum(range(5),-1))\n",
        "from numpy import *\n",
        "print(sum(range(5),-1))\n",
        "```"
      ]
    },
    {
      "cell_type": "code",
      "execution_count": null,
      "metadata": {
        "id": "B_RepbpKO8Uq"
      },
      "outputs": [],
      "source": [
        "print(sum(range(5),-1))#output-->9\n",
        "from numpy import *\n",
        "print(sum(range(5),-1))#output-->10"
      ]
    },
    {
      "cell_type": "markdown",
      "metadata": {
        "id": "TWCTeqY0O8Ur"
      },
      "source": [
        "#### 27. Consider an integer vector Z, which of these expressions are legal? (★☆☆)"
      ]
    },
    {
      "cell_type": "markdown",
      "metadata": {
        "id": "-P6IHy3FO8Ur"
      },
      "source": [
        "```python\n",
        "Z**Z\n",
        "2 << Z >> 2\n",
        "Z <- Z\n",
        "1j*Z\n",
        "Z/1/1\n",
        "Z<Z>Z-->value error\n",
        "\n",
        "```"
      ]
    },
    {
      "cell_type": "code",
      "execution_count": null,
      "metadata": {
        "id": "HbXsEuGQO8Us"
      },
      "outputs": [],
      "source": [
        "#z**z\n",
        "z=np.arange(3)\n",
        "z1=z**z\n",
        "print(\"z**z:\\n\",z1)\n",
        "\n",
        "#2<<z>>2\n",
        "z2=2 << z >> 2\n",
        "print(\"2<<z>>2:\\n\",z2)\n",
        "\n",
        "#Z <- Z\n",
        "z3=z <- z\n",
        "print(\"z <- z:\\n\",z3)\n",
        "\n",
        "#1j*Z\n",
        "z4=1j*z\n",
        "print(\"1j*Z:\\n\",z4)\n",
        "\n",
        "#Z/1/1\n",
        "z5=z / 1 / 1\n",
        "print(\"z/1/1:\\n\",z5)\n",
        "#Z<Z>Z\n",
        "z6=z<z>z\n",
        "print(\"Z<Z>Z:\\n\",z6)#-->value error\n",
        "\n"
      ]
    },
    {
      "cell_type": "markdown",
      "metadata": {
        "id": "zLqczwOfO8Us"
      },
      "source": [
        "#### 28. What are the result of the following expressions?"
      ]
    },
    {
      "cell_type": "markdown",
      "metadata": {
        "id": "pfF0kBDJO8Ut"
      },
      "source": [
        "```python\n",
        "np.array(0) / np.array(0)\n",
        "np.array(0) // np.array(0)\n",
        "np.array([np.nan]).astype(int).astype(float)\n",
        "```"
      ]
    },
    {
      "cell_type": "code",
      "source": [
        "a=np.array([1,2,3,4])\n",
        "b=np.array([5,2,6,4])\n",
        "res=np.array(a)//np.array(b)\n",
        "print (res)"
      ],
      "metadata": {
        "colab": {
          "base_uri": "https://localhost:8080/"
        },
        "id": "TpSl74PbNQEc",
        "outputId": "d5e8d55a-1cf0-4896-cfaf-c68702807bc3"
      },
      "execution_count": null,
      "outputs": [
        {
          "output_type": "stream",
          "name": "stdout",
          "text": [
            "[0 1 0 1]\n"
          ]
        }
      ]
    },
    {
      "cell_type": "code",
      "execution_count": null,
      "metadata": {
        "id": "pIE48TFbO8Ut"
      },
      "outputs": [],
      "source": [
        "1)np.array(0) / np.array(0)\n",
        "it give sthe divion of both the array values its in float\n",
        "\n",
        "eg:\n",
        "a=np.array([1,2,3,4])\n",
        "b=np.array([5,2,6,4])\n",
        "res=np.array(a)/np.array(b)\n",
        "print (res)\n",
        "\n",
        "2)np.array(0) // np.array(0)\n",
        "it gives the floor values\n",
        "\n",
        "eg:\n",
        "a=np.array([1,2,3,4])\n",
        "b=np.array([5,2,6,4])\n",
        "res=np.array(a)//np.array(b)\n",
        "print (res)\n",
        "\n",
        "3)np.array([np.nan]).astype(int).astype(float)\n",
        "*np.array() initializes an array.\n",
        "*np.nan is floating point representation of Not a Number (NaN).\n",
        "*np.array.astype() casts the array to the specified type.\n",
        "**So this creates an array containing NaN (float), then casts it to int, then back to float. Because NaN can’t be represented as an int.\n",
        "\n",
        "eg:a=np.array([np.nan]).astype(int).astype(float)\n",
        "print (a)"
      ]
    },
    {
      "cell_type": "code",
      "source": [
        "a=np.array([np.nan]).astype(int).astype(float)\n",
        "print (a)"
      ],
      "metadata": {
        "id": "SBfGG96qOJjG"
      },
      "execution_count": null,
      "outputs": []
    },
    {
      "cell_type": "markdown",
      "metadata": {
        "id": "fe5T2lgoO8Ut"
      },
      "source": [
        "#### 29. How to round away from zero a float array ? (★☆☆) \n",
        "(**hint**: np.uniform, np.copysign, np.ceil, np.abs)"
      ]
    },
    {
      "cell_type": "code",
      "source": [
        "from numpy.lib.utils import byte_bounds\n",
        "np.unifrom-->used to dexcribe probability where events has equaly changes of occuring\n",
        "  totally 3 parameters\n",
        "  ->a  -->lower bounds\n",
        "  ->b  -->upper bounds\n",
        "  ->size-->the shape of the returned array\n",
        "\n",
        "#np.cpysign\n",
        "* to change the sign of arr1 and arr2 \n",
        "* arr1 & arr2 can be list/sequence or scalar value\n",
        "\n",
        "#np.ceil\n",
        "*gives the round of values\n",
        "\n",
        "\n",
        "#np.abs\n",
        "gives the absolute value"
      ],
      "metadata": {
        "id": "pbEwI0TVCqm9"
      },
      "execution_count": null,
      "outputs": []
    },
    {
      "cell_type": "code",
      "execution_count": null,
      "metadata": {
        "id": "PsHVwQNRO8Uu",
        "colab": {
          "base_uri": "https://localhost:8080/"
        },
        "outputId": "4ad5fee2-8cbe-48c3-8ef8-2bcd414b37ef"
      },
      "outputs": [
        {
          "output_type": "stream",
          "name": "stdout",
          "text": [
            "np.uniform:\n",
            " [[0.41469386 0.21611503 0.34432711]\n",
            " [0.87965761 0.00218103 0.0151047 ]]\n",
            "np.copysign:\n",
            " [ 1. -1.  2.  2. -3.]\n",
            "ceil:\n",
            " [  1.   2.   2. 133. 125.]\n",
            "absolute:\n",
            " [1.   2.   3.   5.1  9.23]\n",
            "3+4j: 5.0\n"
          ]
        }
      ],
      "source": [
        "#np.unifrom\n",
        "from numpy import random\n",
        "x=random.uniform(size=(2,3))\n",
        "print(\"np.uniform:\\n\",x)\n",
        "\n",
        "#np.copysign\n",
        "arr1=[1,-1,2,-2,3]\n",
        "arr2=[4,-4,5,6,-1]\n",
        "res=np.copysign(arr1,arr2)\n",
        "print(\"np.copysign:\\n\",res)\n",
        "\n",
        "#np.ceil\n",
        "a1=[.5,1.5,1.54,133.00,124.56]\n",
        "res=np.ceil(a1)\n",
        "print(\"ceil:\\n\",res)\n",
        "\n",
        "#np.absolute()\n",
        "a=[1,-2,3,5.1,-9.23]\n",
        "b=3+4j\n",
        "res1=np.absolute(a)\n",
        "res2=np.absolute(b)\n",
        "print(\"absolute:\\n\",res1)\n",
        "print(\"3+4j:\",res2)\n"
      ]
    },
    {
      "cell_type": "markdown",
      "metadata": {
        "id": "u3cEkD3bO8Uu"
      },
      "source": [
        "#### 30. How to find common values between two arrays? (★☆☆) \n",
        "(**hint**: np.intersect1d)"
      ]
    },
    {
      "cell_type": "code",
      "execution_count": null,
      "metadata": {
        "id": "XPHQq_IRO8Uv"
      },
      "outputs": [],
      "source": [
        "import numpy as np\n",
        "arr1=np.array([1,2,3,4,5,6,7,8,9,9])\n",
        "arr2=np.array([2,11,12,14,16,6,4,3,7])\n",
        "arr3=np.intersect1d(arr1,arr2)\n",
        "print(arr3)"
      ]
    },
    {
      "cell_type": "markdown",
      "metadata": {
        "id": "tyXXv7xAO8Uv"
      },
      "source": [
        "#### 31. How to ignore all numpy warnings (not recommended)? (★☆☆) \n",
        "(**hint**: np.seterr, np.errstate)"
      ]
    },
    {
      "cell_type": "code",
      "execution_count": null,
      "metadata": {
        "id": "TeO_ByGRO8Uv"
      },
      "outputs": [],
      "source": [
        "defaults = np.seterr(all=\"ignore\")\n",
        "Z = np.ones(1) / 0\n",
        "\n",
        "# Back to sanity\n",
        "_ = np.seterr(**defaults)\n",
        "\n",
        "# Equivalently with a context manager\n",
        "with np.errstate(all=\"ignore\"):\n",
        "    np.arange(3) / 0"
      ]
    },
    {
      "cell_type": "markdown",
      "metadata": {
        "id": "DAlu-xBkO8Uv"
      },
      "source": [
        "#### 32. Is the following expressions true? (★☆☆) \n",
        "(**hint**: imaginary number)"
      ]
    },
    {
      "cell_type": "markdown",
      "metadata": {
        "id": "x1SY7FcLO8Uw"
      },
      "source": [
        "```python\n",
        "np.sqrt(-1) == np.emath.sqrt(-1)\n",
        "```"
      ]
    },
    {
      "cell_type": "code",
      "execution_count": null,
      "metadata": {
        "id": "oJB2Uji2O8Uw"
      },
      "outputs": [],
      "source": [
        "np.sqrt(-1) == np.emath.sqrt(-1)-->false"
      ]
    },
    {
      "cell_type": "markdown",
      "metadata": {
        "id": "aV6rYLnnO8Ux"
      },
      "source": [
        "#### 33. How to get the dates of yesterday, today and tomorrow? (★☆☆) \n",
        "(**hint**: np.datetime64, np.timedelta64)"
      ]
    },
    {
      "cell_type": "code",
      "execution_count": null,
      "metadata": {
        "collapsed": true,
        "id": "sjG9ed7vO8Uy"
      },
      "outputs": [],
      "source": [
        "import numpy as np\n",
        "yesterday=np.datetime64('today')-np.timedelta64(1)\n",
        "today=np.datetime64('today')\n",
        "tomorrow=np.datetime64('today')+np.timedelta64(1)\n",
        "print(\"yesterday:\",yesterday)\n",
        "print(\"today:\",today)\n",
        "print(\"tomorrow:\",tomorrow)"
      ]
    },
    {
      "cell_type": "markdown",
      "metadata": {
        "id": "mBEmJf4hO8Uy"
      },
      "source": [
        "#### 34. How to get all the dates corresponding to the month of July 2016? (★★☆) \n",
        "(**hint**: np.arange(dtype=datetime64\\['D'\\]))"
      ]
    },
    {
      "cell_type": "code",
      "execution_count": null,
      "metadata": {
        "id": "YvpTJNGjO8Uz"
      },
      "outputs": [],
      "source": [
        "Z = np.arange('2016-07', '2016-08', dtype='datetime64[D]')\n",
        "print(Z)\n"
      ]
    },
    {
      "cell_type": "markdown",
      "metadata": {
        "id": "KaftSv5BO8Uz"
      },
      "source": [
        "#### 35. How to compute ((A+B)\\*(-A/2)) in place (without copy)? (★★☆) \n",
        "(**hint**: np.add(out=), np.negative(out=), np.multiply(out=), np.divide(out=))"
      ]
    },
    {
      "cell_type": "code",
      "execution_count": null,
      "metadata": {
        "id": "FcsKPkuMO8Uz"
      },
      "outputs": [],
      "source": [
        "a = np.ones(1)*1\n",
        "b = np.ones(1)*2\n",
        "print(a)\n",
        "print(b)\n",
        "print('add:',np.add(a,b,out=b))\n",
        "print('divide:',np.divide(a,2,out=a))\n",
        "print('negativity:',np.negative(a,out=a))\n",
        "print('multiply:',np.multiply(b,a,out=a))"
      ]
    },
    {
      "cell_type": "markdown",
      "metadata": {
        "id": "wtYvBtf-O8U0"
      },
      "source": [
        "#### 36. Extract the integer part of a random array using 5 different methods (★★☆) \n",
        "(**hint**: %, np.floor, np.ceil, astype, np.trunc)"
      ]
    },
    {
      "cell_type": "code",
      "execution_count": null,
      "metadata": {
        "id": "WUd5U1EUO8U1"
      },
      "outputs": [],
      "source": [
        "import numpy as np\n",
        "x= np.random.uniform(0,10,10)\n",
        "print(\"floor :\",np.floor(x))\n",
        "print(\"ceil:\",np.ceil(x))\n",
        "print(\"astype:\",x.astype(int))\n",
        "print(\"trunc:\",np.trunc(x))\n",
        "print(\"% :\",x -x%1)"
      ]
    },
    {
      "cell_type": "markdown",
      "metadata": {
        "id": "HVjPf2D6O8U1"
      },
      "source": [
        "#### 37. Create a 5x5 matrix with row values ranging from 0 to 4 (★★☆) \n",
        "(**hint**: np.arange)"
      ]
    },
    {
      "cell_type": "code",
      "execution_count": null,
      "metadata": {
        "id": "KA1WhzEpO8U1"
      },
      "outputs": [],
      "source": [
        "import numpy as np\n",
        "x=np.zeros((5,5))\n",
        "print(\"original matrix:\\n\",x)\n",
        "x=x+np.arange(5)\n",
        "print(\"values ranging from 0 t0 4:\\n\",x)"
      ]
    },
    {
      "cell_type": "markdown",
      "metadata": {
        "id": "bxFtxEPtO8U2"
      },
      "source": [
        "#### 38. Consider a generator function that generates 10 integers and use it to build an array (★☆☆) \n",
        "(**hint**: np.fromiter)"
      ]
    },
    {
      "cell_type": "code",
      "execution_count": null,
      "metadata": {
        "id": "-pVBKkZWO8U2"
      },
      "outputs": [],
      "source": [
        "import numpy as np\n",
        "def generate():\n",
        "   for n in range(11):\n",
        "       yield n\n",
        "nums = np.fromiter(generate(),dtype=int)[1:]\n",
        "print(\"New array:\")\n",
        "print(nums)"
      ]
    },
    {
      "cell_type": "markdown",
      "metadata": {
        "id": "Y1zaf_JiO8U2"
      },
      "source": [
        "#### 39. Create a vector of size 10 with values ranging from 0 to 1, both excluded (★★☆) \n",
        "(**hint**: np.linspace)"
      ]
    },
    {
      "cell_type": "code",
      "execution_count": null,
      "metadata": {
        "id": "0GrNGonLO8U3"
      },
      "outputs": [],
      "source": [
        "import numpy as np\n",
        "x=np.linspace(0,1,12,endpoint=True)[1:-1]\n",
        "print(x)"
      ]
    },
    {
      "cell_type": "markdown",
      "metadata": {
        "id": "cgPvk8sKO8U3"
      },
      "source": [
        "#### 40. Create a random vector of size 10 and sort it (★★☆) \n",
        "(**hint**: sort)"
      ]
    },
    {
      "cell_type": "code",
      "execution_count": null,
      "metadata": {
        "id": "b7KwhweSO8U4"
      },
      "outputs": [],
      "source": [
        "x=np.random.random(10)\n",
        "print(\"x:\\n\",x)\n",
        "a=np.sort(x)\n",
        "print(\"sorted array:\\n\",a)"
      ]
    },
    {
      "cell_type": "markdown",
      "metadata": {
        "id": "qNVGwQQDO8U4"
      },
      "source": [
        "#### 41. How to sum a small array faster than np.sum? (★★☆) \n",
        "(**hint**: np.add.reduce)"
      ]
    },
    {
      "cell_type": "code",
      "execution_count": null,
      "metadata": {
        "id": "KSYrISQcO8U5"
      },
      "outputs": [],
      "source": [
        "z=np.arange(10)\n",
        "a=np.add.reduce(z)\n",
        "print(a)"
      ]
    },
    {
      "cell_type": "markdown",
      "metadata": {
        "id": "yOjSdCfMO8U5"
      },
      "source": [
        "#### 42. Consider two random array A and B, check if they are equal (★★☆) \n",
        "(**hint**: np.allclose, np.array\\_equal)"
      ]
    },
    {
      "cell_type": "code",
      "execution_count": null,
      "metadata": {
        "id": "VZ8BcNhTO8U5"
      },
      "outputs": [],
      "source": [
        "a=np.array([1,1,1])#np.random.randint(0,2,5)\n",
        "print(\"a:\",a)\n",
        "\n",
        "b=np.array([1,1,1])#np.random.randint(0,2,5)\n",
        "print(\"b:\",b)\n",
        "equal=np.allclose(a,b)\n",
        "print(equal)\n",
        "array_equal=np.array_equal(a,b)\n",
        "print(array_equal)"
      ]
    },
    {
      "cell_type": "markdown",
      "metadata": {
        "id": "nX0gV2XQO8U6"
      },
      "source": [
        "#### 43. Make an array immutable (read-only) (★★☆) \n",
        "(**hint**: flags.writeable)"
      ]
    },
    {
      "cell_type": "code",
      "execution_count": null,
      "metadata": {
        "id": "8JOtaF__O8U6"
      },
      "outputs": [],
      "source": [
        "Z = np.random.randint(1,10,5)\n",
        "Z.flags.writeable =False\n",
        "print(Z)\n"
      ]
    },
    {
      "cell_type": "markdown",
      "metadata": {
        "id": "vDJ9P49vO8U6"
      },
      "source": [
        "#### 44. Consider a random 10x2 matrix representing cartesian coordinates, convert them to polar coordinates (★★☆) \n",
        "(**hint**: np.sqrt, np.arctan2)"
      ]
    },
    {
      "cell_type": "code",
      "execution_count": null,
      "metadata": {
        "id": "suqRl3vdO8U6"
      },
      "outputs": [],
      "source": [
        "Z = np.random.random((10,2))\n",
        "X,Y = Z[:,0], Z[:,1]\n",
        "R = np.sqrt(X**2+Y**2)\n",
        "T = np.arctan2(Y,X)\n",
        "print(R)\n",
        "print(T)\n"
      ]
    },
    {
      "cell_type": "markdown",
      "metadata": {
        "id": "lL3ymSJPO8U7"
      },
      "source": [
        "#### 45. Create random vector of size 10 and replace the maximum value by 0 (★★☆) \n",
        "(**hint**: argmax)"
      ]
    },
    {
      "cell_type": "code",
      "execution_count": null,
      "metadata": {
        "id": "O_hkDDsYO8U7"
      },
      "outputs": [],
      "source": [
        "z=np.random.random(10)\n",
        "z[z.argmax()]=0\n",
        "print(z)"
      ]
    },
    {
      "cell_type": "markdown",
      "metadata": {
        "id": "dASf1HPeO8U7"
      },
      "source": [
        "#### 46. Create a structured array with `x` and `y` coordinates covering the \\[0,1\\]x\\[0,1\\] area (★★☆) \n",
        "(**hint**: np.meshgrid)"
      ]
    },
    {
      "cell_type": "code",
      "execution_count": null,
      "metadata": {
        "id": "tKaBXHcTO8U7"
      },
      "outputs": [],
      "source": [
        "Z = np.zeros((5,5), [('x',float),('y',float)])\n",
        "Z['x'], Z['y'] = np.meshgrid(np.linspace(0,1,5),\n",
        "                             np.linspace(0,1,5))\n",
        "print(Z)"
      ]
    },
    {
      "cell_type": "markdown",
      "metadata": {
        "id": "7AUnkYXjO8U8"
      },
      "source": [
        "####  47. Given two arrays, X and Y, construct the Cauchy matrix C (Cij =1/(xi - yj)) \n",
        "(**hint**: np.subtract.outer)"
      ]
    },
    {
      "cell_type": "code",
      "execution_count": null,
      "metadata": {
        "id": "_5CCaUzSO8U8"
      },
      "outputs": [],
      "source": [
        "X = np.arange(8)\n",
        "Y = X + 0.5\n",
        "C = 1.0 / np.subtract.outer(X, Y)\n",
        "print(np.linalg.det(C))"
      ]
    },
    {
      "cell_type": "markdown",
      "metadata": {
        "id": "cPGNQOleO8U8"
      },
      "source": [
        "#### 48. Print the minimum and maximum representable value for each numpy scalar type (★★☆) \n",
        "(**hint**: np.iinfo, np.finfo, eps)"
      ]
    },
    {
      "cell_type": "code",
      "source": [
        "np.iinfo->machine limits for integer dtype\n",
        "np.finfo->machine limits for float dtype\n",
        "eps->eplise"
      ],
      "metadata": {
        "id": "trc479Ta0cOY"
      },
      "execution_count": null,
      "outputs": []
    },
    {
      "cell_type": "code",
      "execution_count": null,
      "metadata": {
        "id": "eFXuzKlKO8U9"
      },
      "outputs": [],
      "source": [
        "print(\"integer\")\n",
        "for i in [np.int8,np.int32,np.int64]:\n",
        "  print(\"integer maximum:\",np.iinfo(i).max)\n",
        "  print(\"integer minimum:\",np.iinfo(i).min)\n",
        "print(\"float\")\n",
        "for j in [np.float32,np.float64]:\n",
        "  print(\"float max:\",np.finfo(j).max)\n",
        "  print(\"float min:\",np.finfo(j).min)\n",
        "  print(\"epllise e:\",np.finfo(j).eps)"
      ]
    },
    {
      "cell_type": "markdown",
      "metadata": {
        "id": "fcdnAof9O8U-"
      },
      "source": [
        "#### 49. How to print all the values of an array? (★★☆) \n",
        "(**hint**: np.set\\_printoptions)"
      ]
    },
    {
      "cell_type": "code",
      "execution_count": null,
      "metadata": {
        "id": "VRBw6N_gO8U-"
      },
      "outputs": [],
      "source": [
        "np.set_printoptions(threshold=float('inf'))\n",
        "x=np.zeros((4,4))\n",
        "print(x)"
      ]
    },
    {
      "cell_type": "markdown",
      "metadata": {
        "id": "wkbrnYGXO8U-"
      },
      "source": [
        "#### 50. How to find the closest value (to a given scalar) in a vector? (★★☆) \n",
        "(**hint**: argmin)"
      ]
    },
    {
      "cell_type": "code",
      "execution_count": null,
      "metadata": {
        "id": "yuhSbqXEO8U_"
      },
      "outputs": [],
      "source": [
        "import numpy as np\n",
        "x=np.arange(100)\n",
        "print(\"x:\",x)\n",
        "a=np.random.uniform(0,100)\n",
        "print(\"a:\",a)\n",
        "index=(np.abs(x-a).argmin())\n",
        "print(x[index])"
      ]
    },
    {
      "cell_type": "markdown",
      "metadata": {
        "id": "H_vaAQyFO8U_"
      },
      "source": [
        "#### 51. Create a structured array representing a position (x,y) and a color (r,g,b) (★★☆) \n",
        "(**hint**: dtype)"
      ]
    },
    {
      "cell_type": "code",
      "execution_count": null,
      "metadata": {
        "id": "C83CJuGfO8VA"
      },
      "outputs": [],
      "source": [
        "import numpy as np\n",
        "x = np.zeros(10, [ ('position', [ ('x', float, 1),\n",
        "                                  ('y', float, 1)]),\n",
        "                   ('color',    [ ('r', float, 1),\n",
        "                                  ('g', float, 1),\n",
        "                                  ('b', float, 1)])])\n",
        "print(x)"
      ]
    },
    {
      "cell_type": "markdown",
      "metadata": {
        "id": "pUoZo1PsO8VA"
      },
      "source": [
        "#### 52. Consider a random vector with shape (100,2) representing coordinates, find point by point distances (★★☆) \n",
        "(**hint**: np.atleast\\_2d, T, np.sqrt)"
      ]
    },
    {
      "cell_type": "code",
      "execution_count": null,
      "metadata": {
        "id": "GZEtBv2CO8VB"
      },
      "outputs": [],
      "source": [
        "Z = np.random.random((10,2))\n",
        "X,Y = np.atleast_2d(Z[:,0], Z[:,1])\n",
        "D = np.sqrt( (X-X.T)**2 + (Y-Y.T)**2)\n",
        "print(D)\n"
      ]
    },
    {
      "cell_type": "markdown",
      "metadata": {
        "id": "2FDsVwbWO8VB"
      },
      "source": [
        "#### 53. How to convert a float (32 bits) array into an integer (32 bits) in place? \n",
        "(**hint**: astype(copy=False))"
      ]
    },
    {
      "cell_type": "code",
      "execution_count": null,
      "metadata": {
        "id": "6zioixuRO8VC"
      },
      "outputs": [],
      "source": [
        "z=(np.random.rand(10)*10).astype(np.float32)\n",
        "print(\"float32 values:\\n\",z)\n",
        "x=z.astype(np.int32)\n",
        "print(x)"
      ]
    },
    {
      "cell_type": "markdown",
      "metadata": {
        "id": "fjho2XuhO8VD"
      },
      "source": [
        "#### 54. How to read the following file? (★★☆) \n",
        "(**hint**: np.genfromtxt)"
      ]
    },
    {
      "cell_type": "markdown",
      "metadata": {
        "id": "sXK7T6bUO8VD"
      },
      "source": [
        "```\n",
        "1, 2, 3, 4, 5\n",
        "6,  ,  , 7, 8\n",
        " ,  , 9,10,11\n",
        "```"
      ]
    },
    {
      "cell_type": "code",
      "source": [
        "from io import StringIO \n",
        "s=StringIO('''1, 2, 3, 4, 5\n",
        "            6,  ,  , 7, 8\n",
        "             ,  , 9,10,11 ''')\n",
        "z=np.genfromtxt(s,delimiter=',',dtype=np.int)\n",
        "print(z)\n"
      ],
      "metadata": {
        "id": "qIL0MmFalm6l"
      },
      "execution_count": null,
      "outputs": []
    },
    {
      "cell_type": "code",
      "execution_count": null,
      "metadata": {
        "id": "lJMMGTIHO8VE"
      },
      "outputs": [],
      "source": [
        "genfromtxt-->The set of functions that convert the data of a column to a value.\n",
        "             The converters can also be used to provide a default value for missing data\n"
      ]
    },
    {
      "cell_type": "markdown",
      "metadata": {
        "id": "ECkDve9wO8VE"
      },
      "source": [
        "#### 55. What is the equivalent of enumerate for numpy arrays? (★★☆) \n",
        "(**hint**: np.ndenumerate, np.ndindex)"
      ]
    },
    {
      "cell_type": "code",
      "execution_count": null,
      "metadata": {
        "id": "P3OozqOYO8VE"
      },
      "outputs": [],
      "source": [
        "enumerate-->to name a list of things separately, one by one\n"
      ]
    },
    {
      "cell_type": "code",
      "source": [
        "Z = np.arange(9).reshape(3,3)\n",
        "print(\"z\",z)\n",
        "print(\"np.ndenumerate(Z)\")\n",
        "for index, value in np.ndenumerate(Z):\n",
        "    print(index, value)\n",
        "print(\"np.ndindex\")\n",
        "for index in np.ndindex(Z.shape):\n",
        "    print(index, Z[index])"
      ],
      "metadata": {
        "colab": {
          "base_uri": "https://localhost:8080/"
        },
        "id": "pfIWU0NZm2td",
        "outputId": "996dd552-148f-4f44-d035-1412cc58e8a7"
      },
      "execution_count": null,
      "outputs": [
        {
          "output_type": "stream",
          "name": "stdout",
          "text": [
            "z [[ 1  2  3  4  5]\n",
            " [ 6 -1 -1  7  8]\n",
            " [-1 -1  9 10 11]]\n",
            "np.ndenumerate(Z)\n",
            "(0, 0) 0\n",
            "(0, 1) 1\n",
            "(0, 2) 2\n",
            "(1, 0) 3\n",
            "(1, 1) 4\n",
            "(1, 2) 5\n",
            "(2, 0) 6\n",
            "(2, 1) 7\n",
            "(2, 2) 8\n",
            "np.ndindex\n",
            "(0, 0) 0\n",
            "(0, 1) 1\n",
            "(0, 2) 2\n",
            "(1, 0) 3\n",
            "(1, 1) 4\n",
            "(1, 2) 5\n",
            "(2, 0) 6\n",
            "(2, 1) 7\n",
            "(2, 2) 8\n"
          ]
        }
      ]
    },
    {
      "cell_type": "markdown",
      "metadata": {
        "id": "gfpbDhNFO8VF"
      },
      "source": [
        "#### 56. Generate a generic 2D Gaussian-like array (★★☆) \n",
        "(**hint**: np.meshgrid, np.exp)"
      ]
    },
    {
      "cell_type": "code",
      "execution_count": null,
      "metadata": {
        "id": "BiLI0KhfO8VG"
      },
      "outputs": [],
      "source": [
        "X, Y = np.meshgrid(np.linspace(-1,1,10), np.linspace(-1,1,10))\n",
        "D = np.sqrt(X*X+Y*Y)\n",
        "sigma, mu = 1.0, 0.0\n",
        "G = np.exp(-( (D-mu)**2 / ( 2.0 * sigma**2 ) ) )\n",
        "print(G)"
      ]
    },
    {
      "cell_type": "markdown",
      "metadata": {
        "id": "PNljBeN8O8VG"
      },
      "source": [
        "#### 57. How to randomly place p elements in a 2D array? (★★☆) \n",
        "(**hint**: np.put, np.random.choice)"
      ]
    },
    {
      "cell_type": "code",
      "execution_count": null,
      "metadata": {
        "id": "TVNPVidDO8VH",
        "colab": {
          "base_uri": "https://localhost:8080/"
        },
        "outputId": "33b92ee8-b5c7-4a7d-eda9-20b64f037ab5"
      },
      "outputs": [
        {
          "output_type": "stream",
          "name": "stdout",
          "text": [
            "[[0. 0. 0. 0. 0.]\n",
            " [0. 0. 1. 0. 0.]\n",
            " [0. 0. 0. 0. 0.]\n",
            " [1. 0. 0. 0. 0.]\n",
            " [0. 1. 0. 0. 0.]]\n"
          ]
        }
      ],
      "source": [
        "n = 10\n",
        "p = 3\n",
        "Z = np.zeros((5,5))\n",
        "np.put(Z, np.random.choice(range(5*5), p, replace=False),1)\n",
        "print(Z)"
      ]
    },
    {
      "cell_type": "markdown",
      "metadata": {
        "id": "SOcoec-hO8VH"
      },
      "source": [
        "#### 58. Subtract the mean of each row of a matrix (★★☆) \n",
        "(**hint**: mean(axis=,keepdims=))"
      ]
    },
    {
      "cell_type": "code",
      "execution_count": null,
      "metadata": {
        "id": "1ME42Jj7O8VH"
      },
      "outputs": [],
      "source": [
        "X = np.random.rand(5, 10)\n",
        "Y = X - X.mean(axis=1, keepdims=True)\n",
        "print(Y)"
      ]
    },
    {
      "cell_type": "markdown",
      "metadata": {
        "id": "aiJ5fdsgO8VI"
      },
      "source": [
        "#### 59. How to sort an array by the nth column? (★★☆) \n",
        "(**hint**: argsort)"
      ]
    },
    {
      "cell_type": "code",
      "execution_count": null,
      "metadata": {
        "id": "Ob_z5QICO8VI"
      },
      "outputs": [],
      "source": [
        "Z = np.random.randint(0,10,(3,3))\n",
        "print(Z)\n",
        "print(Z[Z[:,1].argsort()])"
      ]
    },
    {
      "cell_type": "markdown",
      "metadata": {
        "id": "EeV4rkDNO8VJ"
      },
      "source": [
        "#### 60. How to tell if a given 2D array has null columns? (★★☆) \n",
        "(**hint**: any, ~)"
      ]
    },
    {
      "cell_type": "code",
      "execution_count": null,
      "metadata": {
        "id": "sLLCaIyHO8VJ",
        "colab": {
          "base_uri": "https://localhost:8080/"
        },
        "outputId": "229803c0-2186-4d60-ee60-fa61cca56755"
      },
      "outputs": [
        {
          "output_type": "stream",
          "name": "stdout",
          "text": [
            "Original array:\n",
            "[[1 2 1 0 1 0 0 0 2 1]\n",
            " [2 2 1 1 1 2 1 0 1 2]\n",
            " [2 0 0 1 0 0 2 1 0 1]\n",
            " [1 1 1 1 0 0 1 0 1 2]]\n",
            "\n",
            "Test whether the said array has null columns or not:\n",
            "False\n"
          ]
        }
      ],
      "source": [
        "import numpy as np\n",
        "print(\"Original array:\")\n",
        "nums = np.random.randint(0,3,(4,10))\n",
        "print(nums)\n",
        "print(\"\\nTest whether the said array has null columns or not:\")\n",
        "print((~nums.any(axis=0)).any())\n"
      ]
    },
    {
      "cell_type": "markdown",
      "metadata": {
        "id": "2qB_s9JrO8VJ"
      },
      "source": [
        "#### 61. Find the nearest value from a given value in an array (★★☆) \n",
        "(**hint**: np.abs, argmin, flat)"
      ]
    },
    {
      "cell_type": "code",
      "execution_count": 13,
      "metadata": {
        "id": "IP33vZbLO8VK",
        "colab": {
          "base_uri": "https://localhost:8080/"
        },
        "outputId": "3b6870b0-7a98-473a-94e8-758c6a0d0aa5"
      },
      "outputs": [
        {
          "output_type": "stream",
          "name": "stdout",
          "text": [
            "0.463719448505688\n"
          ]
        }
      ],
      "source": [
        "Z = np.random.uniform(0,1,10)\n",
        "z = 0.5\n",
        "m = Z.flat[np.abs(Z - z).argmin()]\n",
        "print(m)"
      ]
    },
    {
      "cell_type": "markdown",
      "metadata": {
        "id": "a_lI8ocWO8VK"
      },
      "source": [
        "#### 62. Considering two arrays with shape (1,3) and (3,1), how to compute their sum using an iterator? (★★☆) \n",
        "(**hint**: np.nditer)"
      ]
    },
    {
      "cell_type": "code",
      "execution_count": null,
      "metadata": {
        "id": "IuGGXhlYO8VK"
      },
      "outputs": [],
      "source": [
        "A = np.arange(3).reshape(3,1)\n",
        "B = np.arange(3).reshape(1,3)\n",
        "it = np.nditer([A,B,None])\n",
        "for x,y,z in it: z[...] = x + y\n",
        "print(it.operands[2])"
      ]
    },
    {
      "cell_type": "markdown",
      "metadata": {
        "id": "1VTvvzKxO8VK"
      },
      "source": [
        "#### 63. Create an array class that has a name attribute (★★☆) \n",
        "(**hint**: class method)"
      ]
    },
    {
      "cell_type": "code",
      "execution_count": null,
      "metadata": {
        "id": "AX2Jrun_O8VL"
      },
      "outputs": [],
      "source": [
        "class NamedArray(np.ndarray):\n",
        "    def __new__(cls, array, name=\"no name\"):\n",
        "        obj = np.asarray(array).view(cls)\n",
        "        obj.name = name\n",
        "        return obj\n",
        "    def __array_finalize__(self, obj):\n",
        "        if obj is None: return\n",
        "        self.name = getattr(obj, 'name', \"no name\")\n",
        "\n",
        "Z = NamedArray(np.arange(10), \"range_10\")\n",
        "print (Z.name)"
      ]
    },
    {
      "cell_type": "markdown",
      "metadata": {
        "id": "Jt3x2GpzO8VL"
      },
      "source": [
        "#### 64. Consider a given vector, how to add 1 to each element indexed by a second vector (be careful with repeated indices)? (★★★) \n",
        "(**hint**: np.bincount | np.add.at)"
      ]
    },
    {
      "cell_type": "code",
      "execution_count": null,
      "metadata": {
        "id": "rX056vliO8VM"
      },
      "outputs": [],
      "source": [
        "Z = np.ones(10)\n",
        "I = np.random.randint(0,len(Z),20)\n",
        "Z += np.bincount(I, minlength=len(Z))\n",
        "print(Z)"
      ]
    },
    {
      "cell_type": "markdown",
      "metadata": {
        "id": "eBeHAGw9O8VN"
      },
      "source": [
        "#### 65. How to accumulate elements of a vector (X) to an array (F) based on an index list (I)? (★★★) \n",
        "(**hint**: np.bincount)"
      ]
    },
    {
      "cell_type": "code",
      "execution_count": null,
      "metadata": {
        "id": "UOCUIgJzO8VO"
      },
      "outputs": [],
      "source": [
        "X = [1,2,3,4,5,6]\n",
        "I = [1,3,9,3,4,1]\n",
        "F = np.bincount(I,X)\n",
        "print(F)"
      ]
    },
    {
      "cell_type": "markdown",
      "metadata": {
        "id": "GyjgpM0bO8VO"
      },
      "source": [
        "#### 66. Considering a (w,h,3) image of (dtype=ubyte), compute the number of unique colors (★★★) \n",
        "(**hint**: np.unique)"
      ]
    },
    {
      "cell_type": "code",
      "execution_count": 18,
      "metadata": {
        "id": "NwXr4zRaO8VP",
        "colab": {
          "base_uri": "https://localhost:8080/"
        },
        "outputId": "1c913459-30fe-4ca0-ddb8-c70c16ab191d"
      },
      "outputs": [
        {
          "output_type": "stream",
          "name": "stdout",
          "text": [
            "64\n",
            "64\n"
          ]
        }
      ],
      "source": [
        "\n",
        "w, h = 256, 256\n",
        "I = np.random.randint(0, 4, (h, w, 3)).astype(np.ubyte)\n",
        "colors = np.unique(I.reshape(-1, 3), axis=0)\n",
        "n = len(colors)\n",
        "print(n)\n",
        "w, h = 256, 256\n",
        "I = np.random.randint(0,4,(h,w,3), dtype=np.uint8)\n",
        "\n",
        "# View each pixel as a single 24-bit integer, rather than three 8-bit bytes\n",
        "I24 = np.dot(I.astype(np.uint32),[1,256,65536])\n",
        "\n",
        "# Count unique colours\n",
        "n = len(np.unique(I24))\n",
        "print(n)"
      ]
    },
    {
      "cell_type": "markdown",
      "metadata": {
        "id": "wJviFokhO8VP"
      },
      "source": [
        "#### 67. Considering a four dimensions array, how to get sum over the last two axis at once? (★★★) \n",
        "(**hint**: sum(axis=(-2,-1)))"
      ]
    },
    {
      "cell_type": "code",
      "execution_count": null,
      "metadata": {
        "id": "jZSn9bVAO8VP"
      },
      "outputs": [],
      "source": [
        "A = np.random.randint(0,10,(3,4,3,4))\n",
        "\n",
        "sum = A.sum(axis=(-2,-1))\n",
        "print(sum)\n",
        "\n",
        "sum = A.reshape(A.shape[:-2] + (-1,)).sum(axis=-1)\n",
        "print(sum)"
      ]
    },
    {
      "cell_type": "markdown",
      "metadata": {
        "id": "dxOWXyTtO8VQ"
      },
      "source": [
        "#### 68. Considering a one-dimensional vector D, how to compute means of subsets of D using a vector S of same size describing subset  indices? (★★★) \n",
        "(**hint**: np.bincount)"
      ]
    },
    {
      "cell_type": "code",
      "execution_count": null,
      "metadata": {
        "id": "FiMRNvKPO8VQ"
      },
      "outputs": [],
      "source": [
        "D = np.random.uniform(0,1,100)\n",
        "S = np.random.randint(0,10,100)\n",
        "D_sums = np.bincount(S, weights=D)\n",
        "D_counts = np.bincount(S)\n",
        "D_means = D_sums / D_counts\n",
        "print(D_means)\n"
      ]
    },
    {
      "cell_type": "markdown",
      "metadata": {
        "id": "26xf7LJJO8VQ"
      },
      "source": [
        "#### 69. How to get the diagonal of a dot product? (★★★) \n",
        "(**hint**: np.diag)"
      ]
    },
    {
      "cell_type": "code",
      "execution_count": 23,
      "metadata": {
        "id": "J9NKivi-O8VR",
        "colab": {
          "base_uri": "https://localhost:8080/"
        },
        "outputId": "fe2f5eb9-957f-4367-b3bf-a50dd62905ea"
      },
      "outputs": [
        {
          "output_type": "execute_result",
          "data": {
            "text/plain": [
              "array([1.31661665, 1.30685549, 1.70459015, 1.83782893, 1.06520897])"
            ]
          },
          "metadata": {},
          "execution_count": 23
        }
      ],
      "source": [
        "\n",
        "A = np.random.uniform(0,1,(5,5))\n",
        "B = np.random.uniform(0,1,(5,5))\n",
        "\n",
        "# Slow version\n",
        "np.diag(np.dot(A, B))\n",
        "\n",
        "# Fast version\n",
        "np.sum(A * B.T, axis=1)\n",
        "\n",
        "# Faster version\n",
        "np.einsum(\"ij,ji->i\", A, B)"
      ]
    },
    {
      "cell_type": "markdown",
      "metadata": {
        "id": "sbdGGcnhO8VR"
      },
      "source": [
        "#### 70. Consider the vector \\[1, 2, 3, 4, 5\\], how to build a new vector with 3 consecutive zeros interleaved between each value? (★★★) \n",
        "(**hint**: array\\[::4\\])"
      ]
    },
    {
      "cell_type": "code",
      "execution_count": 24,
      "metadata": {
        "id": "RwYGzsTxO8VS",
        "colab": {
          "base_uri": "https://localhost:8080/"
        },
        "outputId": "b34b07fc-50a7-4e99-a33d-1539efbb6463"
      },
      "outputs": [
        {
          "output_type": "stream",
          "name": "stdout",
          "text": [
            "[1. 0. 0. 0. 2. 0. 0. 0. 3. 0. 0. 0. 4. 0. 0. 0. 5.]\n"
          ]
        }
      ],
      "source": [
        "Z = np.array([1,2,3,4,5])\n",
        "nz = 3\n",
        "Z0 = np.zeros(len(Z) + (len(Z)-1)*(nz))\n",
        "Z0[::nz+1] = Z\n",
        "print(Z0)"
      ]
    },
    {
      "cell_type": "markdown",
      "metadata": {
        "id": "ywMU8SacO8VS"
      },
      "source": [
        "#### 71. Consider an array of dimension (5,5,3), how to mulitply it by an array with dimensions (5,5)? (★★★) \n",
        "(**hint**: array\\[:, :, None\\])"
      ]
    },
    {
      "cell_type": "code",
      "execution_count": null,
      "metadata": {
        "collapsed": true,
        "id": "-xb5_qk1O8VT"
      },
      "outputs": [],
      "source": [
        "A = np.ones((5,5,3))\n",
        "B = 2*np.ones((5,5))\n",
        "print(A * B[:,:,None])"
      ]
    },
    {
      "cell_type": "markdown",
      "metadata": {
        "id": "YfGAuOFBO8VT"
      },
      "source": [
        "#### 72. How to swap two rows of an array? (★★★) \n",
        "(**hint**: array\\[\\[\\]\\] = array\\[\\[\\]\\])"
      ]
    },
    {
      "cell_type": "code",
      "execution_count": null,
      "metadata": {
        "id": "3jJ2hbsgO8VU"
      },
      "outputs": [],
      "source": [
        "A = np.arange(25).reshape(5,5)\n",
        "A[[0,1]] = A[[1,0]]\n",
        "print(A)"
      ]
    },
    {
      "cell_type": "markdown",
      "metadata": {
        "id": "ANddFWTLO8VU"
      },
      "source": [
        "#### 73. Consider a set of 10 triplets describing 10 triangles (with shared vertices), find the set of unique line segments composing all the  triangles (★★★) \n",
        "(**hint**: repeat, np.roll, np.sort, view, np.unique)"
      ]
    },
    {
      "cell_type": "code",
      "execution_count": null,
      "metadata": {
        "id": "DyjVzqIiO8VU"
      },
      "outputs": [],
      "source": [
        "faces = np.random.randint(0,100,(10,3))\n",
        "F = np.roll(faces.repeat(2,axis=1),-1,axis=1)\n",
        "F = F.reshape(len(F)*3,2)\n",
        "F = np.sort(F,axis=1)\n",
        "G = F.view( dtype=[('p0',F.dtype),('p1',F.dtype)] )\n",
        "G = np.unique(G)\n",
        "print(G)"
      ]
    },
    {
      "cell_type": "markdown",
      "metadata": {
        "id": "3V5yzwtYO8VV"
      },
      "source": [
        "#### 74. Given an array C that is a bincount, how to produce an array A such that np.bincount(A) == C? (★★★) \n",
        "(**hint**: np.repeat)"
      ]
    },
    {
      "cell_type": "code",
      "execution_count": 28,
      "metadata": {
        "id": "PK5sxmy0O8VV",
        "colab": {
          "base_uri": "https://localhost:8080/"
        },
        "outputId": "830c115b-5d3f-4f80-f940-c85e1baffeb2"
      },
      "outputs": [
        {
          "output_type": "stream",
          "name": "stdout",
          "text": [
            "[1 1 2 3 4 4 6]\n"
          ]
        }
      ],
      "source": [
        "C = np.bincount([1,1,2,3,4,4,6])\n",
        "A = np.repeat(np.arange(len(C)), C)\n",
        "print(A)"
      ]
    },
    {
      "cell_type": "markdown",
      "metadata": {
        "id": "_fn_KyYVO8VW"
      },
      "source": [
        "#### 75. How to compute averages using a sliding window over an array? (★★★) \n",
        "(**hint**: np.cumsum)"
      ]
    },
    {
      "cell_type": "code",
      "execution_count": 31,
      "metadata": {
        "id": "I0QPSDzKO8VW",
        "colab": {
          "base_uri": "https://localhost:8080/"
        },
        "outputId": "37fc550f-acf2-43b3-dced-9f022400be1f"
      },
      "outputs": [
        {
          "output_type": "stream",
          "name": "stdout",
          "text": [
            "[ 1.  2.  3.  4.  5.  6.  7.  8.  9. 10. 11. 12. 13. 14. 15. 16. 17. 18.]\n"
          ]
        }
      ],
      "source": [
        "\n",
        "def moving_average(a, n=3) :\n",
        "    ret = np.cumsum(a, dtype=float)\n",
        "    ret[n:] = ret[n:] - ret[:-n]\n",
        "    return ret[n - 1:] / n\n",
        "Z = np.arange(20)\n",
        "print(moving_average(Z, n=3))\n",
        "\n",
        "\n"
      ]
    },
    {
      "cell_type": "markdown",
      "metadata": {
        "id": "Qes5CNgcO8VX"
      },
      "source": [
        "#### 76. Consider a one-dimensional array Z, build a two-dimensional array whose first row is (Z\\[0\\],Z\\[1\\],Z\\[2\\]) and each subsequent row is  shifted by 1 (last row should be (Z\\[-3\\],Z\\[-2\\],Z\\[-1\\]) (★★★) \n",
        "(**hint**: from numpy.lib import stride_tricks)"
      ]
    },
    {
      "cell_type": "code",
      "execution_count": null,
      "metadata": {
        "id": "scaySI4bO8VX"
      },
      "outputs": [],
      "source": [
        "from numpy.lib import stride_tricks\n",
        "\n",
        "def rolling(a, window):\n",
        "    shape = (a.size - window + 1, window)\n",
        "    strides = (a.strides[0], a.strides[0])\n",
        "    return stride_tricks.as_strided(a, shape=shape, strides=strides)\n",
        "Z = rolling(np.arange(10), 3)\n",
        "print(Z)\n",
        "\n",
        "\n",
        "Z = np.arange(10)\n",
        "print(sliding_window_view(Z, window_shape=3))"
      ]
    },
    {
      "cell_type": "markdown",
      "metadata": {
        "id": "_Tis_C2FO8VX"
      },
      "source": [
        "#### 77. How to negate a boolean, or to change the sign of a float inplace? (★★★) \n",
        "(**hint**: np.logical_not, np.negative)"
      ]
    },
    {
      "cell_type": "code",
      "execution_count": null,
      "metadata": {
        "id": "YVC-GcJTO8VY"
      },
      "outputs": [],
      "source": [
        "Z = np.random.randint(0,2,100)\n",
        "np.logical_not(Z, out=Z)\n",
        "\n",
        "Z = np.random.uniform(-1.0,1.0,100)\n",
        "np.negative(Z, out=Z)\n"
      ]
    },
    {
      "cell_type": "markdown",
      "metadata": {
        "id": "hcCLU9_VO8VY"
      },
      "source": [
        "#### 78. Consider 2 sets of points P0,P1 describing lines (2d) and a point p, how to compute distance from p to each line i  (P0\\[i\\],P1\\[i\\])? (★★★)"
      ]
    },
    {
      "cell_type": "code",
      "execution_count": null,
      "metadata": {
        "id": "G8RDpjF2O8VZ"
      },
      "outputs": [],
      "source": [
        "def distance(P0, P1, p):\n",
        "    T = P1 - P0\n",
        "    L = (T**2).sum(axis=1)\n",
        "    U = -((P0[:,0]-p[...,0])*T[:,0] + (P0[:,1]-p[...,1])*T[:,1]) / L\n",
        "    U = U.reshape(len(U),1)\n",
        "    D = P0 + U*T - p\n",
        "    return np.sqrt((D**2).sum(axis=1))\n",
        "\n",
        "P0 = np.random.uniform(-10,10,(10,2))\n",
        "P1 = np.random.uniform(-10,10,(10,2))\n",
        "p  = np.random.uniform(-10,10,( 1,2))\n",
        "print(distance(P0, P1, p))"
      ]
    },
    {
      "cell_type": "markdown",
      "metadata": {
        "id": "fSO-hsk1O8VZ"
      },
      "source": [
        "#### 79. Consider 2 sets of points P0,P1 describing lines (2d) and a set of points P, how to compute distance from each point j (P\\[j\\]) to each line i (P0\\[i\\],P1\\[i\\])? (★★★)"
      ]
    },
    {
      "cell_type": "code",
      "execution_count": null,
      "metadata": {
        "id": "tOyGzKQTO8Va"
      },
      "outputs": [],
      "source": [
        "P0 = np.random.uniform(-10, 10, (10,2))\n",
        "P1 = np.random.uniform(-10,10,(10,2))\n",
        "p = np.random.uniform(-10, 10, (10,2))\n",
        "print(np.array([distance(P0,P1,p_i) for p_i in p]))"
      ]
    },
    {
      "cell_type": "markdown",
      "metadata": {
        "id": "vgHSqy_NO8Va"
      },
      "source": [
        "#### 80. Consider an arbitrary array, write a function that extract a subpart with a fixed shape and centered on a given element (pad with a `fill` value when necessary) (★★★) \n",
        "(**hint**: minimum, maximum)"
      ]
    },
    {
      "cell_type": "code",
      "execution_count": null,
      "metadata": {
        "id": "ikkKSmQRO8Vb"
      },
      "outputs": [],
      "source": [
        "Z = np.random.randint(0,10,(10,10))\n",
        "shape = (5,5)\n",
        "fill  = 0\n",
        "position = (1,1)\n",
        "\n",
        "R = np.ones(shape, dtype=Z.dtype)*fill\n",
        "P  = np.array(list(position)).astype(int)\n",
        "Rs = np.array(list(R.shape)).astype(int)\n",
        "Zs = np.array(list(Z.shape)).astype(int)\n",
        "\n",
        "R_start = np.zeros((len(shape),)).astype(int)\n",
        "R_stop  = np.array(list(shape)).astype(int)\n",
        "Z_start = (P-Rs//2)\n",
        "Z_stop  = (P+Rs//2)+Rs%2\n",
        "\n",
        "R_start = (R_start - np.minimum(Z_start,0)).tolist()\n",
        "Z_start = (np.maximum(Z_start,0)).tolist()\n",
        "R_stop = np.maximum(R_start, (R_stop - np.maximum(Z_stop-Zs,0))).tolist()\n",
        "Z_stop = (np.minimum(Z_stop,Zs)).tolist()\n",
        "\n",
        "r = [slice(start,stop) for start,stop in zip(R_start,R_stop)]\n",
        "z = [slice(start,stop) for start,stop in zip(Z_start,Z_stop)]\n",
        "R[r] = Z[z]\n",
        "print(Z)\n",
        "print(R)\n"
      ]
    },
    {
      "cell_type": "markdown",
      "metadata": {
        "id": "JQ7JB-K8O8Vb"
      },
      "source": [
        "#### 81. Consider an array Z = \\[1,2,3,4,5,6,7,8,9,10,11,12,13,14\\], how to generate an array R = \\[\\[1,2,3,4\\], \\[2,3,4,5\\], \\[3,4,5,6\\], ..., \\[11,12,13,14\\]\\]? (★★★) \n",
        "(**hint**: stride\\_tricks.as\\_strided)"
      ]
    },
    {
      "cell_type": "code",
      "execution_count": null,
      "metadata": {
        "id": "IPaJi_umO8Vb"
      },
      "outputs": [],
      "source": [
        "Z = np.arange(1,15,dtype=np.uint32)\n",
        "R = stride_tricks.as_strided(Z,(11,4),(4,4))\n",
        "print(R)\n",
        "\n",
        "\n",
        "\n",
        "Z = np.arange(1, 15, dtype=np.uint32)\n",
        "print(sliding_window_view(Z, window_shape=4))"
      ]
    },
    {
      "cell_type": "markdown",
      "metadata": {
        "id": "_sxaAsxTO8Vc"
      },
      "source": [
        "#### 82. Compute a matrix rank (★★★) \n",
        "(**hint**: np.linalg.svd) (suggestion: np.linalg.svd)"
      ]
    },
    {
      "cell_type": "code",
      "execution_count": 40,
      "metadata": {
        "id": "CDLLr8jSO8Vc",
        "colab": {
          "base_uri": "https://localhost:8080/"
        },
        "outputId": "18e246cb-c5f7-462b-9cfa-b07eaa4f963e"
      },
      "outputs": [
        {
          "output_type": "stream",
          "name": "stdout",
          "text": [
            "10\n",
            "10\n"
          ]
        }
      ],
      "source": [
        "Z = np.random.uniform(0,1,(10,10))\n",
        "U, S, V = np.linalg.svd(Z) # Singular Value Decomposition\n",
        "rank = np.sum(S > 1e-10)\n",
        "print(rank)\n",
        "\n",
        "rank = np.linalg.matrix_rank(Z)\n",
        "print(rank)"
      ]
    },
    {
      "cell_type": "markdown",
      "metadata": {
        "id": "OdOU190UO8Vd"
      },
      "source": [
        "#### 83. How to find the most frequent value in an array? \n",
        "(**hint**: np.bincount, argmax)"
      ]
    },
    {
      "cell_type": "code",
      "execution_count": 41,
      "metadata": {
        "id": "nl3bQA1OO8Vd",
        "colab": {
          "base_uri": "https://localhost:8080/"
        },
        "outputId": "c5677dd1-4ae6-4abe-88a0-68ceb3ecfd67"
      },
      "outputs": [
        {
          "output_type": "stream",
          "name": "stdout",
          "text": [
            "1\n"
          ]
        }
      ],
      "source": [
        "Z = np.random.randint(0,10,50)\n",
        "print(np.bincount(Z).argmax())"
      ]
    },
    {
      "cell_type": "markdown",
      "metadata": {
        "id": "TF8GoxnkO8Vd"
      },
      "source": [
        "#### 84. Extract all the contiguous 3x3 blocks from a random 10x10 matrix (★★★) \n",
        "(**hint**: stride\\_tricks.as\\_strided)"
      ]
    },
    {
      "cell_type": "code",
      "execution_count": 43,
      "metadata": {
        "id": "R1TSfh3RO8Ve",
        "colab": {
          "base_uri": "https://localhost:8080/"
        },
        "outputId": "895945cc-a475-4534-df69-2f6558fffb79"
      },
      "outputs": [
        {
          "output_type": "stream",
          "name": "stdout",
          "text": [
            "[[[[3 4 1]\n",
            "   [0 4 2]\n",
            "   [4 4 0]]\n",
            "\n",
            "  [[4 1 3]\n",
            "   [4 2 3]\n",
            "   [4 0 0]]\n",
            "\n",
            "  [[1 3 2]\n",
            "   [2 3 1]\n",
            "   [0 0 3]]\n",
            "\n",
            "  [[3 2 2]\n",
            "   [3 1 4]\n",
            "   [0 3 0]]\n",
            "\n",
            "  [[2 2 1]\n",
            "   [1 4 1]\n",
            "   [3 0 1]]\n",
            "\n",
            "  [[2 1 1]\n",
            "   [4 1 1]\n",
            "   [0 1 4]]\n",
            "\n",
            "  [[1 1 1]\n",
            "   [1 1 0]\n",
            "   [1 4 4]]\n",
            "\n",
            "  [[1 1 2]\n",
            "   [1 0 0]\n",
            "   [4 4 2]]]\n",
            "\n",
            "\n",
            " [[[0 4 2]\n",
            "   [4 4 0]\n",
            "   [3 0 1]]\n",
            "\n",
            "  [[4 2 3]\n",
            "   [4 0 0]\n",
            "   [0 1 4]]\n",
            "\n",
            "  [[2 3 1]\n",
            "   [0 0 3]\n",
            "   [1 4 0]]\n",
            "\n",
            "  [[3 1 4]\n",
            "   [0 3 0]\n",
            "   [4 0 2]]\n",
            "\n",
            "  [[1 4 1]\n",
            "   [3 0 1]\n",
            "   [0 2 1]]\n",
            "\n",
            "  [[4 1 1]\n",
            "   [0 1 4]\n",
            "   [2 1 3]]\n",
            "\n",
            "  [[1 1 0]\n",
            "   [1 4 4]\n",
            "   [1 3 2]]\n",
            "\n",
            "  [[1 0 0]\n",
            "   [4 4 2]\n",
            "   [3 2 4]]]\n",
            "\n",
            "\n",
            " [[[4 4 0]\n",
            "   [3 0 1]\n",
            "   [2 1 4]]\n",
            "\n",
            "  [[4 0 0]\n",
            "   [0 1 4]\n",
            "   [1 4 0]]\n",
            "\n",
            "  [[0 0 3]\n",
            "   [1 4 0]\n",
            "   [4 0 0]]\n",
            "\n",
            "  [[0 3 0]\n",
            "   [4 0 2]\n",
            "   [0 0 4]]\n",
            "\n",
            "  [[3 0 1]\n",
            "   [0 2 1]\n",
            "   [0 4 3]]\n",
            "\n",
            "  [[0 1 4]\n",
            "   [2 1 3]\n",
            "   [4 3 0]]\n",
            "\n",
            "  [[1 4 4]\n",
            "   [1 3 2]\n",
            "   [3 0 0]]\n",
            "\n",
            "  [[4 4 2]\n",
            "   [3 2 4]\n",
            "   [0 0 0]]]\n",
            "\n",
            "\n",
            " [[[3 0 1]\n",
            "   [2 1 4]\n",
            "   [2 4 3]]\n",
            "\n",
            "  [[0 1 4]\n",
            "   [1 4 0]\n",
            "   [4 3 4]]\n",
            "\n",
            "  [[1 4 0]\n",
            "   [4 0 0]\n",
            "   [3 4 0]]\n",
            "\n",
            "  [[4 0 2]\n",
            "   [0 0 4]\n",
            "   [4 0 1]]\n",
            "\n",
            "  [[0 2 1]\n",
            "   [0 4 3]\n",
            "   [0 1 0]]\n",
            "\n",
            "  [[2 1 3]\n",
            "   [4 3 0]\n",
            "   [1 0 4]]\n",
            "\n",
            "  [[1 3 2]\n",
            "   [3 0 0]\n",
            "   [0 4 1]]\n",
            "\n",
            "  [[3 2 4]\n",
            "   [0 0 0]\n",
            "   [4 1 1]]]\n",
            "\n",
            "\n",
            " [[[2 1 4]\n",
            "   [2 4 3]\n",
            "   [4 4 4]]\n",
            "\n",
            "  [[1 4 0]\n",
            "   [4 3 4]\n",
            "   [4 4 1]]\n",
            "\n",
            "  [[4 0 0]\n",
            "   [3 4 0]\n",
            "   [4 1 1]]\n",
            "\n",
            "  [[0 0 4]\n",
            "   [4 0 1]\n",
            "   [1 1 2]]\n",
            "\n",
            "  [[0 4 3]\n",
            "   [0 1 0]\n",
            "   [1 2 2]]\n",
            "\n",
            "  [[4 3 0]\n",
            "   [1 0 4]\n",
            "   [2 2 0]]\n",
            "\n",
            "  [[3 0 0]\n",
            "   [0 4 1]\n",
            "   [2 0 4]]\n",
            "\n",
            "  [[0 0 0]\n",
            "   [4 1 1]\n",
            "   [0 4 2]]]\n",
            "\n",
            "\n",
            " [[[2 4 3]\n",
            "   [4 4 4]\n",
            "   [1 0 2]]\n",
            "\n",
            "  [[4 3 4]\n",
            "   [4 4 1]\n",
            "   [0 2 2]]\n",
            "\n",
            "  [[3 4 0]\n",
            "   [4 1 1]\n",
            "   [2 2 0]]\n",
            "\n",
            "  [[4 0 1]\n",
            "   [1 1 2]\n",
            "   [2 0 1]]\n",
            "\n",
            "  [[0 1 0]\n",
            "   [1 2 2]\n",
            "   [0 1 4]]\n",
            "\n",
            "  [[1 0 4]\n",
            "   [2 2 0]\n",
            "   [1 4 0]]\n",
            "\n",
            "  [[0 4 1]\n",
            "   [2 0 4]\n",
            "   [4 0 4]]\n",
            "\n",
            "  [[4 1 1]\n",
            "   [0 4 2]\n",
            "   [0 4 2]]]\n",
            "\n",
            "\n",
            " [[[4 4 4]\n",
            "   [1 0 2]\n",
            "   [3 4 0]]\n",
            "\n",
            "  [[4 4 1]\n",
            "   [0 2 2]\n",
            "   [4 0 3]]\n",
            "\n",
            "  [[4 1 1]\n",
            "   [2 2 0]\n",
            "   [0 3 4]]\n",
            "\n",
            "  [[1 1 2]\n",
            "   [2 0 1]\n",
            "   [3 4 2]]\n",
            "\n",
            "  [[1 2 2]\n",
            "   [0 1 4]\n",
            "   [4 2 3]]\n",
            "\n",
            "  [[2 2 0]\n",
            "   [1 4 0]\n",
            "   [2 3 2]]\n",
            "\n",
            "  [[2 0 4]\n",
            "   [4 0 4]\n",
            "   [3 2 4]]\n",
            "\n",
            "  [[0 4 2]\n",
            "   [0 4 2]\n",
            "   [2 4 1]]]\n",
            "\n",
            "\n",
            " [[[1 0 2]\n",
            "   [3 4 0]\n",
            "   [1 1 2]]\n",
            "\n",
            "  [[0 2 2]\n",
            "   [4 0 3]\n",
            "   [1 2 0]]\n",
            "\n",
            "  [[2 2 0]\n",
            "   [0 3 4]\n",
            "   [2 0 0]]\n",
            "\n",
            "  [[2 0 1]\n",
            "   [3 4 2]\n",
            "   [0 0 4]]\n",
            "\n",
            "  [[0 1 4]\n",
            "   [4 2 3]\n",
            "   [0 4 3]]\n",
            "\n",
            "  [[1 4 0]\n",
            "   [2 3 2]\n",
            "   [4 3 3]]\n",
            "\n",
            "  [[4 0 4]\n",
            "   [3 2 4]\n",
            "   [3 3 1]]\n",
            "\n",
            "  [[0 4 2]\n",
            "   [2 4 1]\n",
            "   [3 1 2]]]]\n",
            "[[[[2 4 3]\n",
            "   [4 1 0]\n",
            "   [4 2 3]]\n",
            "\n",
            "  [[4 3 0]\n",
            "   [1 0 1]\n",
            "   [2 3 0]]\n",
            "\n",
            "  [[3 0 0]\n",
            "   [0 1 1]\n",
            "   [3 0 2]]\n",
            "\n",
            "  [[0 0 1]\n",
            "   [1 1 3]\n",
            "   [0 2 4]]\n",
            "\n",
            "  [[0 1 0]\n",
            "   [1 3 3]\n",
            "   [2 4 3]]\n",
            "\n",
            "  [[1 0 4]\n",
            "   [3 3 3]\n",
            "   [4 3 3]]\n",
            "\n",
            "  [[0 4 2]\n",
            "   [3 3 3]\n",
            "   [3 3 0]]\n",
            "\n",
            "  [[4 2 4]\n",
            "   [3 3 0]\n",
            "   [3 0 3]]]\n",
            "\n",
            "\n",
            " [[[4 1 0]\n",
            "   [4 2 3]\n",
            "   [0 2 0]]\n",
            "\n",
            "  [[1 0 1]\n",
            "   [2 3 0]\n",
            "   [2 0 3]]\n",
            "\n",
            "  [[0 1 1]\n",
            "   [3 0 2]\n",
            "   [0 3 1]]\n",
            "\n",
            "  [[1 1 3]\n",
            "   [0 2 4]\n",
            "   [3 1 1]]\n",
            "\n",
            "  [[1 3 3]\n",
            "   [2 4 3]\n",
            "   [1 1 4]]\n",
            "\n",
            "  [[3 3 3]\n",
            "   [4 3 3]\n",
            "   [1 4 1]]\n",
            "\n",
            "  [[3 3 3]\n",
            "   [3 3 0]\n",
            "   [4 1 3]]\n",
            "\n",
            "  [[3 3 0]\n",
            "   [3 0 3]\n",
            "   [1 3 1]]]\n",
            "\n",
            "\n",
            " [[[4 2 3]\n",
            "   [0 2 0]\n",
            "   [1 1 3]]\n",
            "\n",
            "  [[2 3 0]\n",
            "   [2 0 3]\n",
            "   [1 3 1]]\n",
            "\n",
            "  [[3 0 2]\n",
            "   [0 3 1]\n",
            "   [3 1 4]]\n",
            "\n",
            "  [[0 2 4]\n",
            "   [3 1 1]\n",
            "   [1 4 3]]\n",
            "\n",
            "  [[2 4 3]\n",
            "   [1 1 4]\n",
            "   [4 3 2]]\n",
            "\n",
            "  [[4 3 3]\n",
            "   [1 4 1]\n",
            "   [3 2 4]]\n",
            "\n",
            "  [[3 3 0]\n",
            "   [4 1 3]\n",
            "   [2 4 1]]\n",
            "\n",
            "  [[3 0 3]\n",
            "   [1 3 1]\n",
            "   [4 1 2]]]\n",
            "\n",
            "\n",
            " [[[0 2 0]\n",
            "   [1 1 3]\n",
            "   [4 0 0]]\n",
            "\n",
            "  [[2 0 3]\n",
            "   [1 3 1]\n",
            "   [0 0 1]]\n",
            "\n",
            "  [[0 3 1]\n",
            "   [3 1 4]\n",
            "   [0 1 1]]\n",
            "\n",
            "  [[3 1 1]\n",
            "   [1 4 3]\n",
            "   [1 1 0]]\n",
            "\n",
            "  [[1 1 4]\n",
            "   [4 3 2]\n",
            "   [1 0 2]]\n",
            "\n",
            "  [[1 4 1]\n",
            "   [3 2 4]\n",
            "   [0 2 1]]\n",
            "\n",
            "  [[4 1 3]\n",
            "   [2 4 1]\n",
            "   [2 1 4]]\n",
            "\n",
            "  [[1 3 1]\n",
            "   [4 1 2]\n",
            "   [1 4 0]]]\n",
            "\n",
            "\n",
            " [[[1 1 3]\n",
            "   [4 0 0]\n",
            "   [4 2 2]]\n",
            "\n",
            "  [[1 3 1]\n",
            "   [0 0 1]\n",
            "   [2 2 3]]\n",
            "\n",
            "  [[3 1 4]\n",
            "   [0 1 1]\n",
            "   [2 3 3]]\n",
            "\n",
            "  [[1 4 3]\n",
            "   [1 1 0]\n",
            "   [3 3 1]]\n",
            "\n",
            "  [[4 3 2]\n",
            "   [1 0 2]\n",
            "   [3 1 3]]\n",
            "\n",
            "  [[3 2 4]\n",
            "   [0 2 1]\n",
            "   [1 3 3]]\n",
            "\n",
            "  [[2 4 1]\n",
            "   [2 1 4]\n",
            "   [3 3 1]]\n",
            "\n",
            "  [[4 1 2]\n",
            "   [1 4 0]\n",
            "   [3 1 4]]]\n",
            "\n",
            "\n",
            " [[[4 0 0]\n",
            "   [4 2 2]\n",
            "   [1 0 4]]\n",
            "\n",
            "  [[0 0 1]\n",
            "   [2 2 3]\n",
            "   [0 4 4]]\n",
            "\n",
            "  [[0 1 1]\n",
            "   [2 3 3]\n",
            "   [4 4 0]]\n",
            "\n",
            "  [[1 1 0]\n",
            "   [3 3 1]\n",
            "   [4 0 0]]\n",
            "\n",
            "  [[1 0 2]\n",
            "   [3 1 3]\n",
            "   [0 0 0]]\n",
            "\n",
            "  [[0 2 1]\n",
            "   [1 3 3]\n",
            "   [0 0 4]]\n",
            "\n",
            "  [[2 1 4]\n",
            "   [3 3 1]\n",
            "   [0 4 3]]\n",
            "\n",
            "  [[1 4 0]\n",
            "   [3 1 4]\n",
            "   [4 3 1]]]\n",
            "\n",
            "\n",
            " [[[4 2 2]\n",
            "   [1 0 4]\n",
            "   [4 3 1]]\n",
            "\n",
            "  [[2 2 3]\n",
            "   [0 4 4]\n",
            "   [3 1 4]]\n",
            "\n",
            "  [[2 3 3]\n",
            "   [4 4 0]\n",
            "   [1 4 4]]\n",
            "\n",
            "  [[3 3 1]\n",
            "   [4 0 0]\n",
            "   [4 4 4]]\n",
            "\n",
            "  [[3 1 3]\n",
            "   [0 0 0]\n",
            "   [4 4 4]]\n",
            "\n",
            "  [[1 3 3]\n",
            "   [0 0 4]\n",
            "   [4 4 4]]\n",
            "\n",
            "  [[3 3 1]\n",
            "   [0 4 3]\n",
            "   [4 4 3]]\n",
            "\n",
            "  [[3 1 4]\n",
            "   [4 3 1]\n",
            "   [4 3 2]]]\n",
            "\n",
            "\n",
            " [[[1 0 4]\n",
            "   [4 3 1]\n",
            "   [2 2 2]]\n",
            "\n",
            "  [[0 4 4]\n",
            "   [3 1 4]\n",
            "   [2 2 0]]\n",
            "\n",
            "  [[4 4 0]\n",
            "   [1 4 4]\n",
            "   [2 0 0]]\n",
            "\n",
            "  [[4 0 0]\n",
            "   [4 4 4]\n",
            "   [0 0 4]]\n",
            "\n",
            "  [[0 0 0]\n",
            "   [4 4 4]\n",
            "   [0 4 3]]\n",
            "\n",
            "  [[0 0 4]\n",
            "   [4 4 4]\n",
            "   [4 3 0]]\n",
            "\n",
            "  [[0 4 3]\n",
            "   [4 4 3]\n",
            "   [3 0 1]]\n",
            "\n",
            "  [[4 3 1]\n",
            "   [4 3 2]\n",
            "   [0 1 3]]]]\n"
          ]
        }
      ],
      "source": [
        "Z = np.random.randint(0,5,(10,10))\n",
        "n = 3\n",
        "i = 1 + (Z.shape[0]-3)\n",
        "j = 1 + (Z.shape[1]-3)\n",
        "C = stride_tricks.as_strided(Z, shape=(i, j, n, n), strides=Z.strides + Z.strides)\n",
        "print(C)\n",
        "\n",
        "\n",
        "\n",
        "Z = np.random.randint(0,5,(10,10))\n",
        "print(sliding_window_view(Z, window_shape=(3, 3)))"
      ]
    },
    {
      "cell_type": "markdown",
      "metadata": {
        "id": "Zac9fdwBO8Ve"
      },
      "source": [
        "#### 85. Create a 2D array subclass such that Z\\[i,j\\] == Z\\[j,i\\] (★★★) \n",
        "(**hint**: class method)"
      ]
    },
    {
      "cell_type": "code",
      "execution_count": 44,
      "metadata": {
        "id": "r0f1dErLO8Ve",
        "colab": {
          "base_uri": "https://localhost:8080/"
        },
        "outputId": "3aa56d87-4fc7-4554-c65e-a3e68e6938e4"
      },
      "outputs": [
        {
          "output_type": "stream",
          "name": "stdout",
          "text": [
            "[[ 9 11  3  4  2]\n",
            " [11  5  0 13  6]\n",
            " [ 3  0  8 42  8]\n",
            " [ 4 13 42  5  5]\n",
            " [ 2  6  8  5  0]]\n"
          ]
        }
      ],
      "source": [
        "class Symetric(np.ndarray):\n",
        "    def __setitem__(self, index, value):\n",
        "        i,j = index\n",
        "        super(Symetric, self).__setitem__((i,j), value)\n",
        "        super(Symetric, self).__setitem__((j,i), value)\n",
        "\n",
        "def symetric(Z):\n",
        "    return np.asarray(Z + Z.T - np.diag(Z.diagonal())).view(Symetric)\n",
        "\n",
        "S = symetric(np.random.randint(0,10,(5,5)))\n",
        "S[2,3] = 42\n",
        "print(S)"
      ]
    },
    {
      "cell_type": "markdown",
      "metadata": {
        "id": "sIt57bNtO8Ve"
      },
      "source": [
        "#### 86. Consider a set of p matrices wich shape (n,n) and a set of p vectors with shape (n,1). How to compute the sum of of the p matrix products at once? (result has shape (n,1)) (★★★) \n",
        "(**hint**: np.tensordot)"
      ]
    },
    {
      "cell_type": "code",
      "execution_count": null,
      "metadata": {
        "id": "-OzA3RzBO8Vf"
      },
      "outputs": [],
      "source": [
        "p, n = 10, 20\n",
        "M = np.ones((p,n,n))\n",
        "V = np.ones((p,n,1))\n",
        "S = np.tensordot(M, V, axes=[[0, 2], [0, 1]])\n",
        "print(S)"
      ]
    },
    {
      "cell_type": "markdown",
      "metadata": {
        "id": "u6zZYRvCO8Vf"
      },
      "source": [
        "#### 87. Consider a 16x16 array, how to get the block-sum (block size is 4x4)? (★★★) \n",
        "(**hint**: np.add.reduceat)"
      ]
    },
    {
      "cell_type": "code",
      "execution_count": null,
      "metadata": {
        "id": "4Yq_JZoGO8Vf"
      },
      "outputs": [],
      "source": [
        "Z = np.ones((16,16))\n",
        "k = 4\n",
        "S = np.add.reduceat(np.add.reduceat(Z, np.arange(0, Z.shape[0], k), axis=0),\n",
        "                                       np.arange(0, Z.shape[1], k), axis=1)\n",
        "print(S)"
      ]
    },
    {
      "cell_type": "markdown",
      "metadata": {
        "id": "VB1plEVPO8Vf"
      },
      "source": [
        "#### 88. How to implement the Game of Life using numpy arrays? (★★★)"
      ]
    },
    {
      "cell_type": "code",
      "execution_count": null,
      "metadata": {
        "id": "zXXYFahSO8Vg"
      },
      "outputs": [],
      "source": [
        "\n",
        "def iterate(Z):\n",
        "    # Count neighbours\n",
        "    N = (Z[0:-2,0:-2] + Z[0:-2,1:-1] + Z[0:-2,2:] +\n",
        "         Z[1:-1,0:-2]                + Z[1:-1,2:] +\n",
        "         Z[2:  ,0:-2] + Z[2:  ,1:-1] + Z[2:  ,2:])\n",
        "\n",
        "    # Apply rules\n",
        "    birth = (N==3) & (Z[1:-1,1:-1]==0)\n",
        "    survive = ((N==2) | (N==3)) & (Z[1:-1,1:-1]==1)\n",
        "    Z[...] = 0\n",
        "    Z[1:-1,1:-1][birth | survive] = 1\n",
        "    return Z\n",
        "\n",
        "Z = np.random.randint(0,2,(50,50))\n",
        "for i in range(100): Z = iterate(Z)\n",
        "print(Z)"
      ]
    },
    {
      "cell_type": "markdown",
      "metadata": {
        "id": "wkKoUy4yO8Vg"
      },
      "source": [
        "#### 89. How to get the n largest values of an array (★★★) \n",
        "(**hint**: np.argsort | np.argpartition)"
      ]
    },
    {
      "cell_type": "code",
      "execution_count": null,
      "metadata": {
        "id": "Sx9R-boEO8Vg"
      },
      "outputs": [],
      "source": [
        "Z = np.arange(10000)\n",
        "np.random.shuffle(Z)\n",
        "n = 5\n",
        "\n",
        "# Slow\n",
        "print (Z[np.argsort(Z)[-n:]])\n",
        "\n",
        "# Fast\n",
        "print (Z[np.argpartition(-Z,n)[:n]])"
      ]
    },
    {
      "cell_type": "markdown",
      "metadata": {
        "id": "ChAW7xhiO8Vh"
      },
      "source": [
        "#### 90. Given an arbitrary number of vectors, build the cartesian product (every combinations of every item) (★★★) \n",
        "(**hint**: np.indices)"
      ]
    },
    {
      "cell_type": "code",
      "execution_count": null,
      "metadata": {
        "scrolled": true,
        "id": "pJB321ufO8Vh"
      },
      "outputs": [],
      "source": [
        "def cartesian(arrays):\n",
        "    arrays = [np.asarray(a) for a in arrays]\n",
        "    shape = (len(x) for x in arrays)\n",
        "\n",
        "    ix = np.indices(shape, dtype=int)\n",
        "    ix = ix.reshape(len(arrays), -1).T\n",
        "\n",
        "    for n, arr in enumerate(arrays):\n",
        "        ix[:, n] = arrays[n][ix[:, n]]\n",
        "\n",
        "    return ix\n",
        "\n",
        "print (cartesian(([1, 2, 3], [4, 5], [6, 7])))"
      ]
    },
    {
      "cell_type": "markdown",
      "metadata": {
        "id": "CkLCvU_dO8Vi"
      },
      "source": [
        "#### 91. How to create a record array from a regular array? (★★★) \n",
        "(**hint**: np.core.records.fromarrays)"
      ]
    },
    {
      "cell_type": "code",
      "execution_count": null,
      "metadata": {
        "id": "gySLEYhnO8Vi"
      },
      "outputs": [],
      "source": [
        "Z = np.array([(\"Hello\", 2.5, 3),\n",
        "              (\"World\", 3.6, 2)])\n",
        "R = np.core.records.fromarrays(Z.T,\n",
        "                               names='col1, col2, col3',\n",
        "                               formats = 'S8, f8, i8')\n",
        "print(R)"
      ]
    },
    {
      "cell_type": "markdown",
      "metadata": {
        "id": "z9pY3ROcO8Vj"
      },
      "source": [
        "#### 92. Consider a large vector Z, compute Z to the power of 3 using 3 different methods (★★★) \n",
        "(**hint**: np.power, \\*, np.einsum)"
      ]
    },
    {
      "cell_type": "code",
      "execution_count": null,
      "metadata": {
        "id": "U1mxJvjqO8Vj"
      },
      "outputs": [],
      "source": [
        "x = np.random.rand(int(5e7))\n",
        "\n",
        "%timeit np.power(x,3)\n",
        "%timeit x*x*x\n",
        "%timeit np.einsum('i,i,i->i',x,x,x)"
      ]
    },
    {
      "cell_type": "markdown",
      "metadata": {
        "id": "3x_8oqFdO8Vj"
      },
      "source": [
        "#### 93. Consider two arrays A and B of shape (8,3) and (2,2). How to find rows of A that contain elements of each row of B regardless of the order of the elements in B? (★★★) \n",
        "(**hint**: np.where)"
      ]
    },
    {
      "cell_type": "code",
      "execution_count": null,
      "metadata": {
        "id": "gYySCyOYO8Vk"
      },
      "outputs": [],
      "source": [
        "A = np.random.randint(0,5,(8,3))\n",
        "B = np.random.randint(0,5,(2,2))\n",
        "\n",
        "C = (A[..., np.newaxis, np.newaxis] == B)\n",
        "rows = np.where(C.any((3,1)).all(1))[0]\n",
        "print(rows)"
      ]
    },
    {
      "cell_type": "markdown",
      "metadata": {
        "id": "ZzBa28FDO8Vk"
      },
      "source": [
        "#### 94. Considering a 10x3 matrix, extract rows with unequal values (e.g. \\[2,2,3\\]) (★★★)"
      ]
    },
    {
      "cell_type": "code",
      "execution_count": null,
      "metadata": {
        "id": "MYB-nPFwO8Vq"
      },
      "outputs": [],
      "source": [
        "Z = np.random.randint(0,5,(10,3))\n",
        "print(Z)\n",
        "# solution for arrays of all dtypes (including string arrays and record arrays)\n",
        "E = np.all(Z[:,1:] == Z[:,:-1], axis=1)\n",
        "U = Z[~E]\n",
        "print(U)\n",
        "# soluiton for numerical arrays only, will work for any number of columns in Z\n",
        "U = Z[Z.max(axis=1) != Z.min(axis=1),:]\n",
        "print(U)"
      ]
    },
    {
      "cell_type": "markdown",
      "metadata": {
        "id": "iB1DDfPYO8Vr"
      },
      "source": [
        "#### 95. Convert a vector of ints into a matrix binary representation (★★★) \n",
        "(**hint**: np.unpackbits)"
      ]
    },
    {
      "cell_type": "code",
      "execution_count": null,
      "metadata": {
        "id": "osk9CYt9O8Vr"
      },
      "outputs": [],
      "source": [
        "I = np.array([0, 1, 2, 3, 15, 16, 32, 64, 128])\n",
        "B = ((I.reshape(-1,1) & (2**np.arange(8))) != 0).astype(int)\n",
        "print(B[:,::-1])\n",
        "\n",
        "\n",
        "I = np.array([0, 1, 2, 3, 15, 16, 32, 64, 128], dtype=np.uint8)\n",
        "print(np.unpackbits(I[:, np.newaxis], axis=1))"
      ]
    },
    {
      "cell_type": "markdown",
      "metadata": {
        "id": "HubmjDvcO8Vr"
      },
      "source": [
        "#### 96. Given a two dimensional array, how to extract unique rows? (★★★) \n",
        "(**hint**: np.ascontiguousarray)"
      ]
    },
    {
      "cell_type": "code",
      "execution_count": null,
      "metadata": {
        "id": "NgB5GPWnO8Vs"
      },
      "outputs": [],
      "source": [
        "Z = np.random.randint(0,2,(6,3))\n",
        "T = np.ascontiguousarray(Z).view(np.dtype((np.void, Z.dtype.itemsize * Z.shape[1])))\n",
        "_, idx = np.unique(T, return_index=True)\n",
        "uZ = Z[idx]\n",
        "print(uZ)\n",
        "\n",
        "uZ = np.unique(Z, axis=0)\n",
        "print(uZ)"
      ]
    },
    {
      "cell_type": "markdown",
      "metadata": {
        "id": "OMgW2Jv8O8Vs"
      },
      "source": [
        "#### 97. Considering 2 vectors A & B, write the einsum equivalent of inner, outer, sum, and mul function (★★★) \n",
        "(**hint**: np.einsum)"
      ]
    },
    {
      "cell_type": "code",
      "execution_count": 5,
      "metadata": {
        "id": "GlX4qK2cO8Vs",
        "colab": {
          "base_uri": "https://localhost:8080/"
        },
        "outputId": "3bb6926f-43b5-4af0-e827-2654a6cbf0e7"
      },
      "outputs": [
        {
          "output_type": "execute_result",
          "data": {
            "text/plain": [
              "array([[0.3503357 , 0.48059752, 0.46643957, 0.42206544, 0.6345171 ,\n",
              "        0.58358781, 0.10193033, 0.58019655, 0.24406829, 0.50312747],\n",
              "       [0.21659623, 0.29713105, 0.28837784, 0.26094339, 0.39229235,\n",
              "        0.36080514, 0.06301877, 0.35870848, 0.15089605, 0.31106027],\n",
              "       [0.13244056, 0.18168461, 0.17633235, 0.1595572 , 0.23987221,\n",
              "        0.22061895, 0.03853364, 0.21933692, 0.09226733, 0.19020181],\n",
              "       [0.00741149, 0.01016723, 0.00986771, 0.00892896, 0.01342346,\n",
              "        0.01234603, 0.00215638, 0.01227429, 0.00516336, 0.01064386],\n",
              "       [0.08961292, 0.1229328 , 0.11931132, 0.10796079, 0.16230413,\n",
              "        0.14927685, 0.02607292, 0.14840939, 0.06243061, 0.12869577],\n",
              "       [0.16657518, 0.22851116, 0.22177944, 0.20068074, 0.30169577,\n",
              "        0.27748027, 0.04846512, 0.27586781, 0.11604789, 0.23922355],\n",
              "       [0.22419893, 0.30756058, 0.29850014, 0.27010271, 0.40606212,\n",
              "        0.37346969, 0.06523078, 0.37129943, 0.15619262, 0.32197873],\n",
              "       [0.13897564, 0.19064956, 0.1850332 , 0.16743031, 0.25170834,\n",
              "        0.23150506, 0.04043502, 0.23015977, 0.09682013, 0.19958703],\n",
              "       [0.30893986, 0.42380989, 0.41132484, 0.37219399, 0.55954225,\n",
              "        0.51463079, 0.08988619, 0.51164024, 0.21522906, 0.44367769],\n",
              "       [0.14159312, 0.19424028, 0.18851814, 0.17058371, 0.25644905,\n",
              "        0.23586526, 0.04119658, 0.23449463, 0.09864365, 0.20334608]])"
            ]
          },
          "metadata": {},
          "execution_count": 5
        }
      ],
      "source": [
        "A = np.random.uniform(0,1,10)\n",
        "B = np.random.uniform(0,1,10)\n",
        "\n",
        "np.einsum('i->', A)       # np.sum(A)\n",
        "np.einsum('i,i->i', A, B) # A * B\n",
        "np.einsum('i,i', A, B)    # np.inner(A, B)\n",
        "np.einsum('i,j->ij', A, B)    # np.outer(A, B)"
      ]
    },
    {
      "cell_type": "markdown",
      "metadata": {
        "id": "ImU5dJQeO8Vs"
      },
      "source": [
        "#### 98. Considering a path described by two vectors (X,Y), how to sample it using equidistant samples (★★★)? \n",
        "(**hint**: np.cumsum, np.interp)"
      ]
    },
    {
      "cell_type": "code",
      "execution_count": 4,
      "metadata": {
        "collapsed": true,
        "id": "Ss8k0c-QO8Vs"
      },
      "outputs": [],
      "source": [
        "phi = np.arange(0, 10*np.pi, 0.1)\n",
        "a = 1\n",
        "x = a*phi*np.cos(phi)\n",
        "y = a*phi*np.sin(phi)\n",
        "\n",
        "dr = (np.diff(x)**2 + np.diff(y)**2)**.5 # segment lengths\n",
        "r = np.zeros_like(x)\n",
        "r[1:] = np.cumsum(dr)                # integrate path\n",
        "r_int = np.linspace(0, r.max(), 200) # regular spaced path\n",
        "x_int = np.interp(r_int, r, x)       # integrate path\n",
        "y_int = np.interp(r_int, r, y)"
      ]
    },
    {
      "cell_type": "markdown",
      "metadata": {
        "id": "wm8vp6GFO8Vt"
      },
      "source": [
        "#### 99. Given an integer n and a 2D array X, select from X the rows which can be interpreted as draws from a multinomial distribution with n degrees, i.e., the rows which only contain integers and which sum to n. (★★★) \n",
        "(**hint**: np.logical\\_and.reduce, np.mod)"
      ]
    },
    {
      "cell_type": "code",
      "execution_count": 3,
      "metadata": {
        "id": "DcQas_n3O8Vt",
        "colab": {
          "base_uri": "https://localhost:8080/"
        },
        "outputId": "96776d55-171f-4839-c5e0-f33a4c2c5e7e"
      },
      "outputs": [
        {
          "output_type": "stream",
          "name": "stdout",
          "text": [
            "[[2. 0. 1. 1.]]\n"
          ]
        }
      ],
      "source": [
        "X = np.asarray([[1.0, 0.0, 3.0, 8.0],\n",
        "                [2.0, 0.0, 1.0, 1.0],\n",
        "                [1.5, 2.5, 1.0, 0.0]])\n",
        "n = 4\n",
        "M = np.logical_and.reduce(np.mod(X, 1) == 0, axis=-1)\n",
        "M &= (X.sum(axis=-1) == n)\n",
        "print(X[M])"
      ]
    },
    {
      "cell_type": "markdown",
      "metadata": {
        "id": "6-bNmYtbO8Vt"
      },
      "source": [
        "#### 100. Compute bootstrapped 95% confidence intervals for the mean of a 1D array X (i.e., resample the elements of an array with replacement N times, compute the mean of each sample, and then compute percentiles over the means). (★★★) \n",
        "(**hint**: np.percentile)"
      ]
    },
    {
      "cell_type": "code",
      "execution_count": 2,
      "metadata": {
        "id": "Gp8J8YTvO8Vt",
        "colab": {
          "base_uri": "https://localhost:8080/"
        },
        "outputId": "007f257f-0acc-47e2-97e1-996c30577894"
      },
      "outputs": [
        {
          "output_type": "stream",
          "name": "stdout",
          "text": [
            "[-0.34648537  0.01952978]\n"
          ]
        }
      ],
      "source": [
        "import numpy as np\n",
        "X = np.random.randn(100) # random 1D array\n",
        "N = 1000 # number of bootstrap samples\n",
        "idx = np.random.randint(0, X.size, (N, X.size))\n",
        "means = X[idx].mean(axis=1)\n",
        "confint = np.percentile(means, [2.5, 97.5])\n",
        "print(confint)"
      ]
    },
    {
      "cell_type": "code",
      "source": [],
      "metadata": {
        "id": "wtRtXYhPQc-t"
      },
      "execution_count": null,
      "outputs": []
    }
  ],
  "metadata": {
    "kernelspec": {
      "display_name": "Python 3",
      "language": "python",
      "name": "python3"
    },
    "language_info": {
      "codemirror_mode": {
        "name": "ipython",
        "version": 3
      },
      "file_extension": ".py",
      "mimetype": "text/x-python",
      "name": "python",
      "nbconvert_exporter": "python",
      "pygments_lexer": "ipython3",
      "version": "3.8.3"
    },
    "colab": {
      "provenance": [],
      "collapsed_sections": [
        "KGgOwZR-O8Ub",
        "hZSo1wvaO8Uc",
        "BcIvpL3_O8Ud",
        "jHd-Z_kzO8Ui",
        "tyXXv7xAO8Uv",
        "DAlu-xBkO8Uv",
        "aV6rYLnnO8Ux",
        "mBEmJf4hO8Uy",
        "KaftSv5BO8Uz",
        "wtYvBtf-O8U0",
        "HVjPf2D6O8U1",
        "bxFtxEPtO8U2"
      ],
      "include_colab_link": true
    }
  },
  "nbformat": 4,
  "nbformat_minor": 0
}